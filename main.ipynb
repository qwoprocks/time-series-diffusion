{
 "cells": [
  {
   "cell_type": "code",
   "execution_count": 1,
   "metadata": {},
   "outputs": [],
   "source": [
    "import os\n",
    "import sys\n",
    "import random\n",
    "from pathlib import Path\n",
    "\n",
    "from tqdm import tqdm\n",
    "import numpy as np\n",
    "import pandas as pd\n",
    "import matplotlib.pyplot as plt\n",
    "\n",
    "from sklearn.metrics import mean_absolute_error\n",
    "from sklearn.preprocessing import MinMaxScaler, MaxAbsScaler\n",
    "import statsmodels.api as sm\n",
    "from statsmodels.tsa.vector_ar.var_model import VAR\n",
    "\n",
    "import torch\n",
    "import torch.nn as nn\n",
    "from torch.utils.data import Dataset, DataLoader\n",
    "\n",
    "import xgboost as xgb\n",
    "\n",
    "SEED = 2103\n",
    "random.seed(SEED)\n",
    "np.random.seed(SEED)\n",
    "torch.manual_seed(SEED)\n",
    "\n",
    "device = torch.device(\"cuda\" if torch.cuda.is_available() else \"cpu\")\n",
    "\n",
    "def eval_fn(y_pred, y_target):\n",
    "    return mean_absolute_error(y_pred, y_target)"
   ]
  },
  {
   "cell_type": "markdown",
   "metadata": {},
   "source": [
    "# Load Train/Test Data"
   ]
  },
  {
   "cell_type": "code",
   "execution_count": 2,
   "metadata": {},
   "outputs": [],
   "source": [
    "train_df = pd.read_pickle('./data_postprocessing/train_df.pkl')\n",
    "test_df = pd.read_pickle('./data_postprocessing/test_df.pkl')"
   ]
  },
  {
   "cell_type": "code",
   "execution_count": 3,
   "metadata": {},
   "outputs": [
    {
     "data": {
      "text/html": [
       "<div>\n",
       "<style scoped>\n",
       "    .dataframe tbody tr th:only-of-type {\n",
       "        vertical-align: middle;\n",
       "    }\n",
       "\n",
       "    .dataframe tbody tr th {\n",
       "        vertical-align: top;\n",
       "    }\n",
       "\n",
       "    .dataframe thead th {\n",
       "        text-align: right;\n",
       "    }\n",
       "</style>\n",
       "<table border=\"1\" class=\"dataframe\">\n",
       "  <thead>\n",
       "    <tr style=\"text-align: right;\">\n",
       "      <th></th>\n",
       "      <th>window_id</th>\n",
       "      <th>ask_price_0</th>\n",
       "      <th>ask_size_0</th>\n",
       "      <th>bid_price_0</th>\n",
       "      <th>bid_size_0</th>\n",
       "      <th>far_price_0</th>\n",
       "      <th>imbalance_buy_sell_flag_0</th>\n",
       "      <th>imbalance_size_0</th>\n",
       "      <th>matched_size_0</th>\n",
       "      <th>near_price_0</th>\n",
       "      <th>...</th>\n",
       "      <th>bid_size_198</th>\n",
       "      <th>far_price_198</th>\n",
       "      <th>imbalance_buy_sell_flag_198</th>\n",
       "      <th>imbalance_size_198</th>\n",
       "      <th>matched_size_198</th>\n",
       "      <th>near_price_198</th>\n",
       "      <th>reference_price_198</th>\n",
       "      <th>target_198</th>\n",
       "      <th>wap_198</th>\n",
       "      <th>last_5_mins</th>\n",
       "    </tr>\n",
       "  </thead>\n",
       "  <tbody>\n",
       "    <tr>\n",
       "      <th>0</th>\n",
       "      <td>0</td>\n",
       "      <td>1.000026</td>\n",
       "      <td>8493.03</td>\n",
       "      <td>0.999812</td>\n",
       "      <td>60651.5</td>\n",
       "      <td>0.0</td>\n",
       "      <td>1</td>\n",
       "      <td>3180602.69</td>\n",
       "      <td>13380276.64</td>\n",
       "      <td>0.0</td>\n",
       "      <td>...</td>\n",
       "      <td>54300.05</td>\n",
       "      <td>0.0</td>\n",
       "      <td>1</td>\n",
       "      <td>15249373.90</td>\n",
       "      <td>26134518.94</td>\n",
       "      <td>0.0</td>\n",
       "      <td>0.999775</td>\n",
       "      <td>-0.510216</td>\n",
       "      <td>1.000000</td>\n",
       "      <td>0</td>\n",
       "    </tr>\n",
       "    <tr>\n",
       "      <th>1</th>\n",
       "      <td>0</td>\n",
       "      <td>1.000026</td>\n",
       "      <td>23519.16</td>\n",
       "      <td>0.999812</td>\n",
       "      <td>13996.5</td>\n",
       "      <td>0.0</td>\n",
       "      <td>1</td>\n",
       "      <td>1299772.70</td>\n",
       "      <td>15261106.63</td>\n",
       "      <td>0.0</td>\n",
       "      <td>...</td>\n",
       "      <td>153691.34</td>\n",
       "      <td>0.0</td>\n",
       "      <td>1</td>\n",
       "      <td>13496480.93</td>\n",
       "      <td>27604966.30</td>\n",
       "      <td>0.0</td>\n",
       "      <td>1.000288</td>\n",
       "      <td>-1.419783</td>\n",
       "      <td>1.000222</td>\n",
       "      <td>0</td>\n",
       "    </tr>\n",
       "  </tbody>\n",
       "</table>\n",
       "<p>2 rows × 2222 columns</p>\n",
       "</div>"
      ],
      "text/plain": [
       "   window_id  ask_price_0  ask_size_0  bid_price_0  bid_size_0  far_price_0  \\\n",
       "0          0     1.000026     8493.03     0.999812     60651.5          0.0   \n",
       "1          0     1.000026    23519.16     0.999812     13996.5          0.0   \n",
       "\n",
       "   imbalance_buy_sell_flag_0  imbalance_size_0  matched_size_0  near_price_0  \\\n",
       "0                          1        3180602.69     13380276.64           0.0   \n",
       "1                          1        1299772.70     15261106.63           0.0   \n",
       "\n",
       "   ...  bid_size_198  far_price_198  imbalance_buy_sell_flag_198  \\\n",
       "0  ...      54300.05            0.0                            1   \n",
       "1  ...     153691.34            0.0                            1   \n",
       "\n",
       "   imbalance_size_198  matched_size_198  near_price_198  reference_price_198  \\\n",
       "0         15249373.90       26134518.94             0.0             0.999775   \n",
       "1         13496480.93       27604966.30             0.0             1.000288   \n",
       "\n",
       "   target_198   wap_198  last_5_mins  \n",
       "0   -0.510216  1.000000            0  \n",
       "1   -1.419783  1.000222            0  \n",
       "\n",
       "[2 rows x 2222 columns]"
      ]
     },
     "execution_count": 3,
     "metadata": {},
     "output_type": "execute_result"
    }
   ],
   "source": [
    "train_df.head(2)"
   ]
  },
  {
   "cell_type": "code",
   "execution_count": 4,
   "metadata": {},
   "outputs": [
    {
     "data": {
      "text/html": [
       "<div>\n",
       "<style scoped>\n",
       "    .dataframe tbody tr th:only-of-type {\n",
       "        vertical-align: middle;\n",
       "    }\n",
       "\n",
       "    .dataframe tbody tr th {\n",
       "        vertical-align: top;\n",
       "    }\n",
       "\n",
       "    .dataframe thead th {\n",
       "        text-align: right;\n",
       "    }\n",
       "</style>\n",
       "<table border=\"1\" class=\"dataframe\">\n",
       "  <thead>\n",
       "    <tr style=\"text-align: right;\">\n",
       "      <th></th>\n",
       "      <th>window_id</th>\n",
       "      <th>ask_price_0</th>\n",
       "      <th>ask_size_0</th>\n",
       "      <th>bid_price_0</th>\n",
       "      <th>bid_size_0</th>\n",
       "      <th>far_price_0</th>\n",
       "      <th>imbalance_buy_sell_flag_0</th>\n",
       "      <th>imbalance_size_0</th>\n",
       "      <th>matched_size_0</th>\n",
       "      <th>near_price_0</th>\n",
       "      <th>...</th>\n",
       "      <th>bid_size_198</th>\n",
       "      <th>far_price_198</th>\n",
       "      <th>imbalance_buy_sell_flag_198</th>\n",
       "      <th>imbalance_size_198</th>\n",
       "      <th>matched_size_198</th>\n",
       "      <th>near_price_198</th>\n",
       "      <th>reference_price_198</th>\n",
       "      <th>target_198</th>\n",
       "      <th>wap_198</th>\n",
       "      <th>last_5_mins</th>\n",
       "    </tr>\n",
       "  </thead>\n",
       "  <tbody>\n",
       "    <tr>\n",
       "      <th>0</th>\n",
       "      <td>433</td>\n",
       "      <td>1.000066</td>\n",
       "      <td>2765.73</td>\n",
       "      <td>0.999697</td>\n",
       "      <td>12685.14</td>\n",
       "      <td>0.0</td>\n",
       "      <td>-1</td>\n",
       "      <td>5128680.68</td>\n",
       "      <td>10543243.05</td>\n",
       "      <td>0.0</td>\n",
       "      <td>...</td>\n",
       "      <td>5753.28</td>\n",
       "      <td>0.0</td>\n",
       "      <td>-1</td>\n",
       "      <td>26806621.39</td>\n",
       "      <td>83364970.70</td>\n",
       "      <td>0.0</td>\n",
       "      <td>1.000486</td>\n",
       "      <td>5.459785</td>\n",
       "      <td>1.000000</td>\n",
       "      <td>0</td>\n",
       "    </tr>\n",
       "    <tr>\n",
       "      <th>1</th>\n",
       "      <td>433</td>\n",
       "      <td>0.999882</td>\n",
       "      <td>78944.32</td>\n",
       "      <td>0.999697</td>\n",
       "      <td>2331.03</td>\n",
       "      <td>0.0</td>\n",
       "      <td>-1</td>\n",
       "      <td>3901807.90</td>\n",
       "      <td>11733675.67</td>\n",
       "      <td>0.0</td>\n",
       "      <td>...</td>\n",
       "      <td>77927.44</td>\n",
       "      <td>0.0</td>\n",
       "      <td>-1</td>\n",
       "      <td>26782684.93</td>\n",
       "      <td>83388907.16</td>\n",
       "      <td>0.0</td>\n",
       "      <td>0.999944</td>\n",
       "      <td>3.089905</td>\n",
       "      <td>1.000051</td>\n",
       "      <td>0</td>\n",
       "    </tr>\n",
       "  </tbody>\n",
       "</table>\n",
       "<p>2 rows × 2222 columns</p>\n",
       "</div>"
      ],
      "text/plain": [
       "   window_id  ask_price_0  ask_size_0  bid_price_0  bid_size_0  far_price_0  \\\n",
       "0        433     1.000066     2765.73     0.999697    12685.14          0.0   \n",
       "1        433     0.999882    78944.32     0.999697     2331.03          0.0   \n",
       "\n",
       "   imbalance_buy_sell_flag_0  imbalance_size_0  matched_size_0  near_price_0  \\\n",
       "0                         -1        5128680.68     10543243.05           0.0   \n",
       "1                         -1        3901807.90     11733675.67           0.0   \n",
       "\n",
       "   ...  bid_size_198  far_price_198  imbalance_buy_sell_flag_198  \\\n",
       "0  ...       5753.28            0.0                           -1   \n",
       "1  ...      77927.44            0.0                           -1   \n",
       "\n",
       "   imbalance_size_198  matched_size_198  near_price_198  reference_price_198  \\\n",
       "0         26806621.39       83364970.70             0.0             1.000486   \n",
       "1         26782684.93       83388907.16             0.0             0.999944   \n",
       "\n",
       "   target_198   wap_198  last_5_mins  \n",
       "0    5.459785  1.000000            0  \n",
       "1    3.089905  1.000051            0  \n",
       "\n",
       "[2 rows x 2222 columns]"
      ]
     },
     "execution_count": 4,
     "metadata": {},
     "output_type": "execute_result"
    }
   ],
   "source": [
    "test_df.head(2)"
   ]
  },
  {
   "cell_type": "code",
   "execution_count": 5,
   "metadata": {},
   "outputs": [
    {
     "data": {
      "text/html": [
       "<style>#sk-container-id-1 {color: black;background-color: white;}#sk-container-id-1 pre{padding: 0;}#sk-container-id-1 div.sk-toggleable {background-color: white;}#sk-container-id-1 label.sk-toggleable__label {cursor: pointer;display: block;width: 100%;margin-bottom: 0;padding: 0.3em;box-sizing: border-box;text-align: center;}#sk-container-id-1 label.sk-toggleable__label-arrow:before {content: \"▸\";float: left;margin-right: 0.25em;color: #696969;}#sk-container-id-1 label.sk-toggleable__label-arrow:hover:before {color: black;}#sk-container-id-1 div.sk-estimator:hover label.sk-toggleable__label-arrow:before {color: black;}#sk-container-id-1 div.sk-toggleable__content {max-height: 0;max-width: 0;overflow: hidden;text-align: left;background-color: #f0f8ff;}#sk-container-id-1 div.sk-toggleable__content pre {margin: 0.2em;color: black;border-radius: 0.25em;background-color: #f0f8ff;}#sk-container-id-1 input.sk-toggleable__control:checked~div.sk-toggleable__content {max-height: 200px;max-width: 100%;overflow: auto;}#sk-container-id-1 input.sk-toggleable__control:checked~label.sk-toggleable__label-arrow:before {content: \"▾\";}#sk-container-id-1 div.sk-estimator input.sk-toggleable__control:checked~label.sk-toggleable__label {background-color: #d4ebff;}#sk-container-id-1 div.sk-label input.sk-toggleable__control:checked~label.sk-toggleable__label {background-color: #d4ebff;}#sk-container-id-1 input.sk-hidden--visually {border: 0;clip: rect(1px 1px 1px 1px);clip: rect(1px, 1px, 1px, 1px);height: 1px;margin: -1px;overflow: hidden;padding: 0;position: absolute;width: 1px;}#sk-container-id-1 div.sk-estimator {font-family: monospace;background-color: #f0f8ff;border: 1px dotted black;border-radius: 0.25em;box-sizing: border-box;margin-bottom: 0.5em;}#sk-container-id-1 div.sk-estimator:hover {background-color: #d4ebff;}#sk-container-id-1 div.sk-parallel-item::after {content: \"\";width: 100%;border-bottom: 1px solid gray;flex-grow: 1;}#sk-container-id-1 div.sk-label:hover label.sk-toggleable__label {background-color: #d4ebff;}#sk-container-id-1 div.sk-serial::before {content: \"\";position: absolute;border-left: 1px solid gray;box-sizing: border-box;top: 0;bottom: 0;left: 50%;z-index: 0;}#sk-container-id-1 div.sk-serial {display: flex;flex-direction: column;align-items: center;background-color: white;padding-right: 0.2em;padding-left: 0.2em;position: relative;}#sk-container-id-1 div.sk-item {position: relative;z-index: 1;}#sk-container-id-1 div.sk-parallel {display: flex;align-items: stretch;justify-content: center;background-color: white;position: relative;}#sk-container-id-1 div.sk-item::before, #sk-container-id-1 div.sk-parallel-item::before {content: \"\";position: absolute;border-left: 1px solid gray;box-sizing: border-box;top: 0;bottom: 0;left: 50%;z-index: -1;}#sk-container-id-1 div.sk-parallel-item {display: flex;flex-direction: column;z-index: 1;position: relative;background-color: white;}#sk-container-id-1 div.sk-parallel-item:first-child::after {align-self: flex-end;width: 50%;}#sk-container-id-1 div.sk-parallel-item:last-child::after {align-self: flex-start;width: 50%;}#sk-container-id-1 div.sk-parallel-item:only-child::after {width: 0;}#sk-container-id-1 div.sk-dashed-wrapped {border: 1px dashed gray;margin: 0 0.4em 0.5em 0.4em;box-sizing: border-box;padding-bottom: 0.4em;background-color: white;}#sk-container-id-1 div.sk-label label {font-family: monospace;font-weight: bold;display: inline-block;line-height: 1.2em;}#sk-container-id-1 div.sk-label-container {text-align: center;}#sk-container-id-1 div.sk-container {/* jupyter's `normalize.less` sets `[hidden] { display: none; }` but bootstrap.min.css set `[hidden] { display: none !important; }` so we also need the `!important` here to be able to override the default hidden behavior on the sphinx rendered scikit-learn.org. See: https://github.com/scikit-learn/scikit-learn/issues/21755 */display: inline-block !important;position: relative;}#sk-container-id-1 div.sk-text-repr-fallback {display: none;}</style><div id=\"sk-container-id-1\" class=\"sk-top-container\"><div class=\"sk-text-repr-fallback\"><pre>MinMaxScaler(feature_range=(-1, 1))</pre><b>In a Jupyter environment, please rerun this cell to show the HTML representation or trust the notebook. <br />On GitHub, the HTML representation is unable to render, please try loading this page with nbviewer.org.</b></div><div class=\"sk-container\" hidden><div class=\"sk-item\"><div class=\"sk-estimator sk-toggleable\"><input class=\"sk-toggleable__control sk-hidden--visually\" id=\"sk-estimator-id-1\" type=\"checkbox\" checked><label for=\"sk-estimator-id-1\" class=\"sk-toggleable__label sk-toggleable__label-arrow\">MinMaxScaler</label><div class=\"sk-toggleable__content\"><pre>MinMaxScaler(feature_range=(-1, 1))</pre></div></div></div></div></div>"
      ],
      "text/plain": [
       "MinMaxScaler(feature_range=(-1, 1))"
      ]
     },
     "execution_count": 5,
     "metadata": {},
     "output_type": "execute_result"
    }
   ],
   "source": [
    "feature_cols = [col for col in train_df if not col.startswith(\"target\") and not col.startswith(\"window_id\")]\n",
    "scaler = MinMaxScaler(feature_range=(-1, 1))\n",
    "scaler.fit(train_df[feature_cols].values)"
   ]
  },
  {
   "cell_type": "code",
   "execution_count": 6,
   "metadata": {},
   "outputs": [],
   "source": [
    "class StockDataset(Dataset):\n",
    "    \"\"\"\n",
    "    To preserve original window structure, do not shuffle, and set batch size to be 55.\n",
    "    \"\"\"\n",
    "    def __init__ (self, df):\n",
    "        self.target_cols = [col for col in df if col.startswith(\"target\")] # we have to change this when we add lags\n",
    "        self.feature_cols = [col for col in df if not col.startswith(\"target\") and not col.startswith(\"window_id\")]\n",
    "        self.labels = df[self.target_cols] # labels for all stocks at all times\n",
    "        self.features = df[self.feature_cols]\n",
    "    def __len__(self):\n",
    "        return len(self.labels)\n",
    "    def __getitem__(self, idx):\n",
    "        return self.features.iloc[idx].values, self.labels.iloc[idx].values"
   ]
  },
  {
   "cell_type": "code",
   "execution_count": 7,
   "metadata": {},
   "outputs": [],
   "source": [
    "train_dataset = torch.load('./data_postprocessing/train.pt')\n",
    "test_dataset = torch.load('./data_postprocessing/test.pt')\n",
    "train_dataloader = DataLoader(train_dataset, batch_size=55, shuffle=False)\n",
    "test_dataloader = DataLoader(test_dataset, batch_size=55, shuffle=False)"
   ]
  },
  {
   "cell_type": "code",
   "execution_count": 8,
   "metadata": {},
   "outputs": [
    {
     "name": "stdout",
     "output_type": "stream",
     "text": [
      "(2036,) (185,)\n"
     ]
    }
   ],
   "source": [
    "x, y = train_dataset[0]\n",
    "print(x.shape, y.shape)"
   ]
  },
  {
   "cell_type": "markdown",
   "metadata": {},
   "source": [
    "# XGBoost"
   ]
  },
  {
   "cell_type": "code",
   "execution_count": null,
   "metadata": {},
   "outputs": [],
   "source": [
    "temp_train_loader = DataLoader(train_dataset, batch_size=len(train_dataset))\n",
    "X, y = next(iter(temp_train_loader))\n",
    "X, y = X.numpy(), y.numpy()"
   ]
  },
  {
   "cell_type": "code",
   "execution_count": null,
   "metadata": {},
   "outputs": [
    {
     "name": "stdout",
     "output_type": "stream",
     "text": [
      "(23815, 2036) (23815, 185)\n"
     ]
    }
   ],
   "source": [
    "print(X.shape, y.shape)"
   ]
  },
  {
   "cell_type": "code",
   "execution_count": null,
   "metadata": {},
   "outputs": [],
   "source": [
    "temp_test_loader = DataLoader(test_dataset, batch_size=len(test_dataset))\n",
    "test_X, test_y = next(iter(temp_test_loader))\n",
    "test_X, test_y = test_X.numpy(), test_y.numpy()"
   ]
  },
  {
   "cell_type": "code",
   "execution_count": null,
   "metadata": {},
   "outputs": [
    {
     "name": "stdout",
     "output_type": "stream",
     "text": [
      "(2640, 2036) (2640, 185)\n"
     ]
    }
   ],
   "source": [
    "print(test_X.shape, test_y.shape)"
   ]
  },
  {
   "cell_type": "code",
   "execution_count": null,
   "metadata": {},
   "outputs": [
    {
     "data": {
      "text/html": [
       "<style>#sk-container-id-2 {\n",
       "  /* Definition of color scheme common for light and dark mode */\n",
       "  --sklearn-color-text: black;\n",
       "  --sklearn-color-line: gray;\n",
       "  /* Definition of color scheme for unfitted estimators */\n",
       "  --sklearn-color-unfitted-level-0: #fff5e6;\n",
       "  --sklearn-color-unfitted-level-1: #f6e4d2;\n",
       "  --sklearn-color-unfitted-level-2: #ffe0b3;\n",
       "  --sklearn-color-unfitted-level-3: chocolate;\n",
       "  /* Definition of color scheme for fitted estimators */\n",
       "  --sklearn-color-fitted-level-0: #f0f8ff;\n",
       "  --sklearn-color-fitted-level-1: #d4ebff;\n",
       "  --sklearn-color-fitted-level-2: #b3dbfd;\n",
       "  --sklearn-color-fitted-level-3: cornflowerblue;\n",
       "\n",
       "  /* Specific color for light theme */\n",
       "  --sklearn-color-text-on-default-background: var(--sg-text-color, var(--theme-code-foreground, var(--jp-content-font-color1, black)));\n",
       "  --sklearn-color-background: var(--sg-background-color, var(--theme-background, var(--jp-layout-color0, white)));\n",
       "  --sklearn-color-border-box: var(--sg-text-color, var(--theme-code-foreground, var(--jp-content-font-color1, black)));\n",
       "  --sklearn-color-icon: #696969;\n",
       "\n",
       "  @media (prefers-color-scheme: dark) {\n",
       "    /* Redefinition of color scheme for dark theme */\n",
       "    --sklearn-color-text-on-default-background: var(--sg-text-color, var(--theme-code-foreground, var(--jp-content-font-color1, white)));\n",
       "    --sklearn-color-background: var(--sg-background-color, var(--theme-background, var(--jp-layout-color0, #111)));\n",
       "    --sklearn-color-border-box: var(--sg-text-color, var(--theme-code-foreground, var(--jp-content-font-color1, white)));\n",
       "    --sklearn-color-icon: #878787;\n",
       "  }\n",
       "}\n",
       "\n",
       "#sk-container-id-2 {\n",
       "  color: var(--sklearn-color-text);\n",
       "}\n",
       "\n",
       "#sk-container-id-2 pre {\n",
       "  padding: 0;\n",
       "}\n",
       "\n",
       "#sk-container-id-2 input.sk-hidden--visually {\n",
       "  border: 0;\n",
       "  clip: rect(1px 1px 1px 1px);\n",
       "  clip: rect(1px, 1px, 1px, 1px);\n",
       "  height: 1px;\n",
       "  margin: -1px;\n",
       "  overflow: hidden;\n",
       "  padding: 0;\n",
       "  position: absolute;\n",
       "  width: 1px;\n",
       "}\n",
       "\n",
       "#sk-container-id-2 div.sk-dashed-wrapped {\n",
       "  border: 1px dashed var(--sklearn-color-line);\n",
       "  margin: 0 0.4em 0.5em 0.4em;\n",
       "  box-sizing: border-box;\n",
       "  padding-bottom: 0.4em;\n",
       "  background-color: var(--sklearn-color-background);\n",
       "}\n",
       "\n",
       "#sk-container-id-2 div.sk-container {\n",
       "  /* jupyter's `normalize.less` sets `[hidden] { display: none; }`\n",
       "     but bootstrap.min.css set `[hidden] { display: none !important; }`\n",
       "     so we also need the `!important` here to be able to override the\n",
       "     default hidden behavior on the sphinx rendered scikit-learn.org.\n",
       "     See: https://github.com/scikit-learn/scikit-learn/issues/21755 */\n",
       "  display: inline-block !important;\n",
       "  position: relative;\n",
       "}\n",
       "\n",
       "#sk-container-id-2 div.sk-text-repr-fallback {\n",
       "  display: none;\n",
       "}\n",
       "\n",
       "div.sk-parallel-item,\n",
       "div.sk-serial,\n",
       "div.sk-item {\n",
       "  /* draw centered vertical line to link estimators */\n",
       "  background-image: linear-gradient(var(--sklearn-color-text-on-default-background), var(--sklearn-color-text-on-default-background));\n",
       "  background-size: 2px 100%;\n",
       "  background-repeat: no-repeat;\n",
       "  background-position: center center;\n",
       "}\n",
       "\n",
       "/* Parallel-specific style estimator block */\n",
       "\n",
       "#sk-container-id-2 div.sk-parallel-item::after {\n",
       "  content: \"\";\n",
       "  width: 100%;\n",
       "  border-bottom: 2px solid var(--sklearn-color-text-on-default-background);\n",
       "  flex-grow: 1;\n",
       "}\n",
       "\n",
       "#sk-container-id-2 div.sk-parallel {\n",
       "  display: flex;\n",
       "  align-items: stretch;\n",
       "  justify-content: center;\n",
       "  background-color: var(--sklearn-color-background);\n",
       "  position: relative;\n",
       "}\n",
       "\n",
       "#sk-container-id-2 div.sk-parallel-item {\n",
       "  display: flex;\n",
       "  flex-direction: column;\n",
       "}\n",
       "\n",
       "#sk-container-id-2 div.sk-parallel-item:first-child::after {\n",
       "  align-self: flex-end;\n",
       "  width: 50%;\n",
       "}\n",
       "\n",
       "#sk-container-id-2 div.sk-parallel-item:last-child::after {\n",
       "  align-self: flex-start;\n",
       "  width: 50%;\n",
       "}\n",
       "\n",
       "#sk-container-id-2 div.sk-parallel-item:only-child::after {\n",
       "  width: 0;\n",
       "}\n",
       "\n",
       "/* Serial-specific style estimator block */\n",
       "\n",
       "#sk-container-id-2 div.sk-serial {\n",
       "  display: flex;\n",
       "  flex-direction: column;\n",
       "  align-items: center;\n",
       "  background-color: var(--sklearn-color-background);\n",
       "  padding-right: 1em;\n",
       "  padding-left: 1em;\n",
       "}\n",
       "\n",
       "\n",
       "/* Toggleable style: style used for estimator/Pipeline/ColumnTransformer box that is\n",
       "clickable and can be expanded/collapsed.\n",
       "- Pipeline and ColumnTransformer use this feature and define the default style\n",
       "- Estimators will overwrite some part of the style using the `sk-estimator` class\n",
       "*/\n",
       "\n",
       "/* Pipeline and ColumnTransformer style (default) */\n",
       "\n",
       "#sk-container-id-2 div.sk-toggleable {\n",
       "  /* Default theme specific background. It is overwritten whether we have a\n",
       "  specific estimator or a Pipeline/ColumnTransformer */\n",
       "  background-color: var(--sklearn-color-background);\n",
       "}\n",
       "\n",
       "/* Toggleable label */\n",
       "#sk-container-id-2 label.sk-toggleable__label {\n",
       "  cursor: pointer;\n",
       "  display: block;\n",
       "  width: 100%;\n",
       "  margin-bottom: 0;\n",
       "  padding: 0.5em;\n",
       "  box-sizing: border-box;\n",
       "  text-align: center;\n",
       "}\n",
       "\n",
       "#sk-container-id-2 label.sk-toggleable__label-arrow:before {\n",
       "  /* Arrow on the left of the label */\n",
       "  content: \"▸\";\n",
       "  float: left;\n",
       "  margin-right: 0.25em;\n",
       "  color: var(--sklearn-color-icon);\n",
       "}\n",
       "\n",
       "#sk-container-id-2 label.sk-toggleable__label-arrow:hover:before {\n",
       "  color: var(--sklearn-color-text);\n",
       "}\n",
       "\n",
       "/* Toggleable content - dropdown */\n",
       "\n",
       "#sk-container-id-2 div.sk-toggleable__content {\n",
       "  max-height: 0;\n",
       "  max-width: 0;\n",
       "  overflow: hidden;\n",
       "  text-align: left;\n",
       "  /* unfitted */\n",
       "  background-color: var(--sklearn-color-unfitted-level-0);\n",
       "}\n",
       "\n",
       "#sk-container-id-2 div.sk-toggleable__content.fitted {\n",
       "  /* fitted */\n",
       "  background-color: var(--sklearn-color-fitted-level-0);\n",
       "}\n",
       "\n",
       "#sk-container-id-2 div.sk-toggleable__content pre {\n",
       "  margin: 0.2em;\n",
       "  border-radius: 0.25em;\n",
       "  color: var(--sklearn-color-text);\n",
       "  /* unfitted */\n",
       "  background-color: var(--sklearn-color-unfitted-level-0);\n",
       "}\n",
       "\n",
       "#sk-container-id-2 div.sk-toggleable__content.fitted pre {\n",
       "  /* unfitted */\n",
       "  background-color: var(--sklearn-color-fitted-level-0);\n",
       "}\n",
       "\n",
       "#sk-container-id-2 input.sk-toggleable__control:checked~div.sk-toggleable__content {\n",
       "  /* Expand drop-down */\n",
       "  max-height: 200px;\n",
       "  max-width: 100%;\n",
       "  overflow: auto;\n",
       "}\n",
       "\n",
       "#sk-container-id-2 input.sk-toggleable__control:checked~label.sk-toggleable__label-arrow:before {\n",
       "  content: \"▾\";\n",
       "}\n",
       "\n",
       "/* Pipeline/ColumnTransformer-specific style */\n",
       "\n",
       "#sk-container-id-2 div.sk-label input.sk-toggleable__control:checked~label.sk-toggleable__label {\n",
       "  color: var(--sklearn-color-text);\n",
       "  background-color: var(--sklearn-color-unfitted-level-2);\n",
       "}\n",
       "\n",
       "#sk-container-id-2 div.sk-label.fitted input.sk-toggleable__control:checked~label.sk-toggleable__label {\n",
       "  background-color: var(--sklearn-color-fitted-level-2);\n",
       "}\n",
       "\n",
       "/* Estimator-specific style */\n",
       "\n",
       "/* Colorize estimator box */\n",
       "#sk-container-id-2 div.sk-estimator input.sk-toggleable__control:checked~label.sk-toggleable__label {\n",
       "  /* unfitted */\n",
       "  background-color: var(--sklearn-color-unfitted-level-2);\n",
       "}\n",
       "\n",
       "#sk-container-id-2 div.sk-estimator.fitted input.sk-toggleable__control:checked~label.sk-toggleable__label {\n",
       "  /* fitted */\n",
       "  background-color: var(--sklearn-color-fitted-level-2);\n",
       "}\n",
       "\n",
       "#sk-container-id-2 div.sk-label label.sk-toggleable__label,\n",
       "#sk-container-id-2 div.sk-label label {\n",
       "  /* The background is the default theme color */\n",
       "  color: var(--sklearn-color-text-on-default-background);\n",
       "}\n",
       "\n",
       "/* On hover, darken the color of the background */\n",
       "#sk-container-id-2 div.sk-label:hover label.sk-toggleable__label {\n",
       "  color: var(--sklearn-color-text);\n",
       "  background-color: var(--sklearn-color-unfitted-level-2);\n",
       "}\n",
       "\n",
       "/* Label box, darken color on hover, fitted */\n",
       "#sk-container-id-2 div.sk-label.fitted:hover label.sk-toggleable__label.fitted {\n",
       "  color: var(--sklearn-color-text);\n",
       "  background-color: var(--sklearn-color-fitted-level-2);\n",
       "}\n",
       "\n",
       "/* Estimator label */\n",
       "\n",
       "#sk-container-id-2 div.sk-label label {\n",
       "  font-family: monospace;\n",
       "  font-weight: bold;\n",
       "  display: inline-block;\n",
       "  line-height: 1.2em;\n",
       "}\n",
       "\n",
       "#sk-container-id-2 div.sk-label-container {\n",
       "  text-align: center;\n",
       "}\n",
       "\n",
       "/* Estimator-specific */\n",
       "#sk-container-id-2 div.sk-estimator {\n",
       "  font-family: monospace;\n",
       "  border: 1px dotted var(--sklearn-color-border-box);\n",
       "  border-radius: 0.25em;\n",
       "  box-sizing: border-box;\n",
       "  margin-bottom: 0.5em;\n",
       "  /* unfitted */\n",
       "  background-color: var(--sklearn-color-unfitted-level-0);\n",
       "}\n",
       "\n",
       "#sk-container-id-2 div.sk-estimator.fitted {\n",
       "  /* fitted */\n",
       "  background-color: var(--sklearn-color-fitted-level-0);\n",
       "}\n",
       "\n",
       "/* on hover */\n",
       "#sk-container-id-2 div.sk-estimator:hover {\n",
       "  /* unfitted */\n",
       "  background-color: var(--sklearn-color-unfitted-level-2);\n",
       "}\n",
       "\n",
       "#sk-container-id-2 div.sk-estimator.fitted:hover {\n",
       "  /* fitted */\n",
       "  background-color: var(--sklearn-color-fitted-level-2);\n",
       "}\n",
       "\n",
       "/* Specification for estimator info (e.g. \"i\" and \"?\") */\n",
       "\n",
       "/* Common style for \"i\" and \"?\" */\n",
       "\n",
       ".sk-estimator-doc-link,\n",
       "a:link.sk-estimator-doc-link,\n",
       "a:visited.sk-estimator-doc-link {\n",
       "  float: right;\n",
       "  font-size: smaller;\n",
       "  line-height: 1em;\n",
       "  font-family: monospace;\n",
       "  background-color: var(--sklearn-color-background);\n",
       "  border-radius: 1em;\n",
       "  height: 1em;\n",
       "  width: 1em;\n",
       "  text-decoration: none !important;\n",
       "  margin-left: 1ex;\n",
       "  /* unfitted */\n",
       "  border: var(--sklearn-color-unfitted-level-1) 1pt solid;\n",
       "  color: var(--sklearn-color-unfitted-level-1);\n",
       "}\n",
       "\n",
       ".sk-estimator-doc-link.fitted,\n",
       "a:link.sk-estimator-doc-link.fitted,\n",
       "a:visited.sk-estimator-doc-link.fitted {\n",
       "  /* fitted */\n",
       "  border: var(--sklearn-color-fitted-level-1) 1pt solid;\n",
       "  color: var(--sklearn-color-fitted-level-1);\n",
       "}\n",
       "\n",
       "/* On hover */\n",
       "div.sk-estimator:hover .sk-estimator-doc-link:hover,\n",
       ".sk-estimator-doc-link:hover,\n",
       "div.sk-label-container:hover .sk-estimator-doc-link:hover,\n",
       ".sk-estimator-doc-link:hover {\n",
       "  /* unfitted */\n",
       "  background-color: var(--sklearn-color-unfitted-level-3);\n",
       "  color: var(--sklearn-color-background);\n",
       "  text-decoration: none;\n",
       "}\n",
       "\n",
       "div.sk-estimator.fitted:hover .sk-estimator-doc-link.fitted:hover,\n",
       ".sk-estimator-doc-link.fitted:hover,\n",
       "div.sk-label-container:hover .sk-estimator-doc-link.fitted:hover,\n",
       ".sk-estimator-doc-link.fitted:hover {\n",
       "  /* fitted */\n",
       "  background-color: var(--sklearn-color-fitted-level-3);\n",
       "  color: var(--sklearn-color-background);\n",
       "  text-decoration: none;\n",
       "}\n",
       "\n",
       "/* Span, style for the box shown on hovering the info icon */\n",
       ".sk-estimator-doc-link span {\n",
       "  display: none;\n",
       "  z-index: 9999;\n",
       "  position: relative;\n",
       "  font-weight: normal;\n",
       "  right: .2ex;\n",
       "  padding: .5ex;\n",
       "  margin: .5ex;\n",
       "  width: min-content;\n",
       "  min-width: 20ex;\n",
       "  max-width: 50ex;\n",
       "  color: var(--sklearn-color-text);\n",
       "  box-shadow: 2pt 2pt 4pt #999;\n",
       "  /* unfitted */\n",
       "  background: var(--sklearn-color-unfitted-level-0);\n",
       "  border: .5pt solid var(--sklearn-color-unfitted-level-3);\n",
       "}\n",
       "\n",
       ".sk-estimator-doc-link.fitted span {\n",
       "  /* fitted */\n",
       "  background: var(--sklearn-color-fitted-level-0);\n",
       "  border: var(--sklearn-color-fitted-level-3);\n",
       "}\n",
       "\n",
       ".sk-estimator-doc-link:hover span {\n",
       "  display: block;\n",
       "}\n",
       "\n",
       "/* \"?\"-specific style due to the `<a>` HTML tag */\n",
       "\n",
       "#sk-container-id-2 a.estimator_doc_link {\n",
       "  float: right;\n",
       "  font-size: 1rem;\n",
       "  line-height: 1em;\n",
       "  font-family: monospace;\n",
       "  background-color: var(--sklearn-color-background);\n",
       "  border-radius: 1rem;\n",
       "  height: 1rem;\n",
       "  width: 1rem;\n",
       "  text-decoration: none;\n",
       "  /* unfitted */\n",
       "  color: var(--sklearn-color-unfitted-level-1);\n",
       "  border: var(--sklearn-color-unfitted-level-1) 1pt solid;\n",
       "}\n",
       "\n",
       "#sk-container-id-2 a.estimator_doc_link.fitted {\n",
       "  /* fitted */\n",
       "  border: var(--sklearn-color-fitted-level-1) 1pt solid;\n",
       "  color: var(--sklearn-color-fitted-level-1);\n",
       "}\n",
       "\n",
       "/* On hover */\n",
       "#sk-container-id-2 a.estimator_doc_link:hover {\n",
       "  /* unfitted */\n",
       "  background-color: var(--sklearn-color-unfitted-level-3);\n",
       "  color: var(--sklearn-color-background);\n",
       "  text-decoration: none;\n",
       "}\n",
       "\n",
       "#sk-container-id-2 a.estimator_doc_link.fitted:hover {\n",
       "  /* fitted */\n",
       "  background-color: var(--sklearn-color-fitted-level-3);\n",
       "}\n",
       "</style><div id=\"sk-container-id-2\" class=\"sk-top-container\"><div class=\"sk-text-repr-fallback\"><pre>XGBRegressor(base_score=None, booster=None, callbacks=None,\n",
       "             colsample_bylevel=None, colsample_bynode=None,\n",
       "             colsample_bytree=None, device=&#x27;cuda&#x27;, early_stopping_rounds=None,\n",
       "             enable_categorical=False, eval_metric=None, feature_types=None,\n",
       "             gamma=None, grow_policy=None, importance_type=None,\n",
       "             interaction_constraints=None, learning_rate=None, max_bin=None,\n",
       "             max_cat_threshold=None, max_cat_to_onehot=None,\n",
       "             max_delta_step=None, max_depth=None, max_leaves=None,\n",
       "             min_child_weight=None, missing=nan, monotone_constraints=None,\n",
       "             multi_strategy=None, n_estimators=None, n_jobs=None,\n",
       "             num_parallel_tree=None, random_state=None, ...)</pre><b>In a Jupyter environment, please rerun this cell to show the HTML representation or trust the notebook. <br />On GitHub, the HTML representation is unable to render, please try loading this page with nbviewer.org.</b></div><div class=\"sk-container\" hidden><div class=\"sk-item\"><div class=\"sk-estimator fitted sk-toggleable\"><input class=\"sk-toggleable__control sk-hidden--visually\" id=\"sk-estimator-id-2\" type=\"checkbox\" checked><label for=\"sk-estimator-id-2\" class=\"sk-toggleable__label fitted sk-toggleable__label-arrow fitted\">&nbsp;XGBRegressor<span class=\"sk-estimator-doc-link fitted\">i<span>Fitted</span></span></label><div class=\"sk-toggleable__content fitted\"><pre>XGBRegressor(base_score=None, booster=None, callbacks=None,\n",
       "             colsample_bylevel=None, colsample_bynode=None,\n",
       "             colsample_bytree=None, device=&#x27;cuda&#x27;, early_stopping_rounds=None,\n",
       "             enable_categorical=False, eval_metric=None, feature_types=None,\n",
       "             gamma=None, grow_policy=None, importance_type=None,\n",
       "             interaction_constraints=None, learning_rate=None, max_bin=None,\n",
       "             max_cat_threshold=None, max_cat_to_onehot=None,\n",
       "             max_delta_step=None, max_depth=None, max_leaves=None,\n",
       "             min_child_weight=None, missing=nan, monotone_constraints=None,\n",
       "             multi_strategy=None, n_estimators=None, n_jobs=None,\n",
       "             num_parallel_tree=None, random_state=None, ...)</pre></div> </div></div></div></div>"
      ],
      "text/plain": [
       "XGBRegressor(base_score=None, booster=None, callbacks=None,\n",
       "             colsample_bylevel=None, colsample_bynode=None,\n",
       "             colsample_bytree=None, device='cuda', early_stopping_rounds=None,\n",
       "             enable_categorical=False, eval_metric=None, feature_types=None,\n",
       "             gamma=None, grow_policy=None, importance_type=None,\n",
       "             interaction_constraints=None, learning_rate=None, max_bin=None,\n",
       "             max_cat_threshold=None, max_cat_to_onehot=None,\n",
       "             max_delta_step=None, max_depth=None, max_leaves=None,\n",
       "             min_child_weight=None, missing=nan, monotone_constraints=None,\n",
       "             multi_strategy=None, n_estimators=None, n_jobs=None,\n",
       "             num_parallel_tree=None, random_state=None, ...)"
      ]
     },
     "execution_count": 12,
     "metadata": {},
     "output_type": "execute_result"
    }
   ],
   "source": [
    "xgb_model = xgb.XGBRegressor(device=\"cuda\")\n",
    "xgb_model.fit(X, y)"
   ]
  },
  {
   "cell_type": "code",
   "execution_count": null,
   "metadata": {},
   "outputs": [
    {
     "name": "stderr",
     "output_type": "stream",
     "text": [
      "/home/mingchonglim/anaconda3/envs/mlip/lib/python3.12/site-packages/xgboost/core.py:160: UserWarning: [22:02:03] WARNING: /workspace/src/common/error_msg.cc:58: Falling back to prediction using DMatrix due to mismatched devices. This might lead to higher memory usage and slower performance. XGBoost is running on: cuda:0, while the input data is on: cpu.\n",
      "Potential solutions:\n",
      "- Use a data structure that matches the device ordinal in the booster.\n",
      "- Set the device for booster before call to inplace_predict.\n",
      "\n",
      "This warning will only be shown once.\n",
      "\n",
      "  warnings.warn(smsg, UserWarning)\n"
     ]
    },
    {
     "name": "stdout",
     "output_type": "stream",
     "text": [
      "Train MAE: 2.33017348998886)\n"
     ]
    }
   ],
   "source": [
    "train_y_hat = xgb_model.predict(X)\n",
    "print(f'Train MAE: {eval_fn(train_y_hat, y)})')"
   ]
  },
  {
   "cell_type": "code",
   "execution_count": null,
   "metadata": {},
   "outputs": [
    {
     "name": "stdout",
     "output_type": "stream",
     "text": [
      "Test MAE: 6.913688415179943)\n"
     ]
    }
   ],
   "source": [
    "test_y_hat = xgb_model.predict(test_X)\n",
    "print(f'Test MAE: {eval_fn(test_y_hat, test_y)})')"
   ]
  },
  {
   "cell_type": "markdown",
   "metadata": {},
   "source": [
    "# VARMAX\n",
    "\n",
    "In this part, we do a rolling prediction using VARMAX as follows (the `|` operator is a concatenation along the 0th axis, and each `train/test[i]` refers to a window of 55 samples): \\\n",
    "`(WAP | Target)_train1 | .. | (WAP | Target)_trainN | WAP_test1 -> Pred_Target_test1` \\\n",
    "`(WAP | Target)_train1 | .. | (WAP | Target)_trainN | (WAP | Pred_Target)_test1 | WAP_test2 -> Pred_Target_test2` \\\n",
    "and so on... \\\n",
    "\\\n",
    "We then just use the last 100 pairs of (WAP | Target) from this big array, plus the current WAP_test appended at the end, to predict the current Target_test \\\n",
    "\\\n",
    "This may perform poorly, but serves as a good baseline for other models to beat"
   ]
  },
  {
   "cell_type": "code",
   "execution_count": null,
   "metadata": {},
   "outputs": [],
   "source": [
    "wap_cols = [col for col in train_df if col.startswith(\"wap\")]\n",
    "target_cols = [col for col in train_df if col.startswith(\"target\")]\n",
    "exo_cols = [col for col in train_df if not col.startswith(\"wap\") and not col.startswith(\"target\")]\n",
    "\n",
    "num_train_samples = len(train_df)\n",
    "wap_indices = [i * 55 + j for i in range(0, (num_train_samples * 2) // 55, 2) for j in range(55)]\n",
    "target_indices = [55 + i * 55 + j for i in range(0, (num_train_samples * 2) // 55, 2) for j in range(55)]\n",
    "concat_train_arr = np.empty((num_train_samples * 2, len(target_cols)))\n",
    "concat_train_arr[wap_indices, :] = train_df[wap_cols].values\n",
    "concat_train_arr[target_indices, :] = train_df[target_cols].values\n",
    "\n",
    "# exogenous variables are just duplicated\n",
    "exo_train_arr = np.empty((num_train_samples * 2, len(exo_cols)))\n",
    "exo_train_arr[wap_indices, :] = train_df[exo_cols].values\n",
    "exo_train_arr[target_indices, :] = train_df[exo_cols].values"
   ]
  },
  {
   "cell_type": "code",
   "execution_count": null,
   "metadata": {},
   "outputs": [
    {
     "name": "stderr",
     "output_type": "stream",
     "text": [
      "  2%|▏         | 1/48 [00:00<00:12,  3.67it/s]"
     ]
    },
    {
     "name": "stdout",
     "output_type": "stream",
     "text": [
      "5.626262182701441\n"
     ]
    },
    {
     "name": "stderr",
     "output_type": "stream",
     "text": [
      "  4%|▍         | 2/48 [00:00<00:12,  3.75it/s]"
     ]
    },
    {
     "name": "stdout",
     "output_type": "stream",
     "text": [
      "6.199536437138377\n"
     ]
    },
    {
     "name": "stderr",
     "output_type": "stream",
     "text": [
      "  6%|▋         | 3/48 [00:00<00:12,  3.71it/s]"
     ]
    },
    {
     "name": "stdout",
     "output_type": "stream",
     "text": [
      "6.017054281416677\n"
     ]
    },
    {
     "name": "stderr",
     "output_type": "stream",
     "text": [
      "  8%|▊         | 4/48 [00:01<00:11,  3.73it/s]"
     ]
    },
    {
     "name": "stdout",
     "output_type": "stream",
     "text": [
      "6.1177923941989025\n"
     ]
    },
    {
     "name": "stderr",
     "output_type": "stream",
     "text": [
      " 10%|█         | 5/48 [00:01<00:11,  3.72it/s]"
     ]
    },
    {
     "name": "stdout",
     "output_type": "stream",
     "text": [
      "6.028102483441858\n"
     ]
    },
    {
     "name": "stderr",
     "output_type": "stream",
     "text": [
      " 12%|█▎        | 6/48 [00:01<00:11,  3.73it/s]"
     ]
    },
    {
     "name": "stdout",
     "output_type": "stream",
     "text": [
      "6.229354085890746\n"
     ]
    },
    {
     "name": "stderr",
     "output_type": "stream",
     "text": [
      " 15%|█▍        | 7/48 [00:01<00:11,  3.67it/s]"
     ]
    },
    {
     "name": "stdout",
     "output_type": "stream",
     "text": [
      "7.416029570724428\n"
     ]
    },
    {
     "name": "stderr",
     "output_type": "stream",
     "text": [
      " 17%|█▋        | 8/48 [00:02<00:11,  3.62it/s]"
     ]
    },
    {
     "name": "stdout",
     "output_type": "stream",
     "text": [
      "6.213474132797025\n"
     ]
    },
    {
     "name": "stderr",
     "output_type": "stream",
     "text": [
      " 19%|█▉        | 9/48 [00:02<00:10,  3.65it/s]"
     ]
    },
    {
     "name": "stdout",
     "output_type": "stream",
     "text": [
      "5.919268747283808\n"
     ]
    },
    {
     "name": "stderr",
     "output_type": "stream",
     "text": [
      " 21%|██        | 10/48 [00:02<00:10,  3.68it/s]"
     ]
    },
    {
     "name": "stdout",
     "output_type": "stream",
     "text": [
      "5.649721362770189\n"
     ]
    },
    {
     "name": "stderr",
     "output_type": "stream",
     "text": [
      " 23%|██▎       | 11/48 [00:02<00:10,  3.70it/s]"
     ]
    },
    {
     "name": "stdout",
     "output_type": "stream",
     "text": [
      "5.883322399699134\n"
     ]
    },
    {
     "name": "stderr",
     "output_type": "stream",
     "text": [
      " 25%|██▌       | 12/48 [00:03<00:09,  3.72it/s]"
     ]
    },
    {
     "name": "stdout",
     "output_type": "stream",
     "text": [
      "6.248745724406667\n"
     ]
    },
    {
     "name": "stderr",
     "output_type": "stream",
     "text": [
      " 27%|██▋       | 13/48 [00:03<00:09,  3.75it/s]"
     ]
    },
    {
     "name": "stdout",
     "output_type": "stream",
     "text": [
      "5.685401908647022\n"
     ]
    },
    {
     "name": "stderr",
     "output_type": "stream",
     "text": [
      " 29%|██▉       | 14/48 [00:03<00:08,  3.78it/s]"
     ]
    },
    {
     "name": "stdout",
     "output_type": "stream",
     "text": [
      "5.318636627176094\n"
     ]
    },
    {
     "name": "stderr",
     "output_type": "stream",
     "text": [
      " 31%|███▏      | 15/48 [00:04<00:08,  3.75it/s]"
     ]
    },
    {
     "name": "stdout",
     "output_type": "stream",
     "text": [
      "5.372311657808444\n"
     ]
    },
    {
     "name": "stderr",
     "output_type": "stream",
     "text": [
      " 33%|███▎      | 16/48 [00:04<00:08,  3.75it/s]"
     ]
    },
    {
     "name": "stdout",
     "output_type": "stream",
     "text": [
      "5.258559826693388\n"
     ]
    },
    {
     "name": "stderr",
     "output_type": "stream",
     "text": [
      " 35%|███▌      | 17/48 [00:04<00:08,  3.75it/s]"
     ]
    },
    {
     "name": "stdout",
     "output_type": "stream",
     "text": [
      "5.590861889870388\n"
     ]
    },
    {
     "name": "stderr",
     "output_type": "stream",
     "text": [
      " 38%|███▊      | 18/48 [00:04<00:08,  3.66it/s]"
     ]
    },
    {
     "name": "stdout",
     "output_type": "stream",
     "text": [
      "5.754411445697447\n"
     ]
    },
    {
     "name": "stderr",
     "output_type": "stream",
     "text": [
      " 40%|███▉      | 19/48 [00:05<00:07,  3.67it/s]"
     ]
    },
    {
     "name": "stdout",
     "output_type": "stream",
     "text": [
      "5.262738301294624\n"
     ]
    },
    {
     "name": "stderr",
     "output_type": "stream",
     "text": [
      " 42%|████▏     | 20/48 [00:05<00:07,  3.68it/s]"
     ]
    },
    {
     "name": "stdout",
     "output_type": "stream",
     "text": [
      "5.2854818312367335\n"
     ]
    },
    {
     "name": "stderr",
     "output_type": "stream",
     "text": [
      " 44%|████▍     | 21/48 [00:05<00:07,  3.71it/s]"
     ]
    },
    {
     "name": "stdout",
     "output_type": "stream",
     "text": [
      "5.493222665531559\n"
     ]
    },
    {
     "name": "stderr",
     "output_type": "stream",
     "text": [
      " 46%|████▌     | 22/48 [00:05<00:07,  3.62it/s]"
     ]
    },
    {
     "name": "stdout",
     "output_type": "stream",
     "text": [
      "5.934616690198129\n"
     ]
    },
    {
     "name": "stderr",
     "output_type": "stream",
     "text": [
      " 48%|████▊     | 23/48 [00:06<00:07,  3.39it/s]"
     ]
    },
    {
     "name": "stdout",
     "output_type": "stream",
     "text": [
      "6.4125353092475965\n"
     ]
    },
    {
     "name": "stderr",
     "output_type": "stream",
     "text": [
      " 50%|█████     | 24/48 [00:06<00:06,  3.45it/s]"
     ]
    },
    {
     "name": "stdout",
     "output_type": "stream",
     "text": [
      "5.757635257674721\n"
     ]
    },
    {
     "name": "stderr",
     "output_type": "stream",
     "text": [
      " 52%|█████▏    | 25/48 [00:06<00:06,  3.50it/s]"
     ]
    },
    {
     "name": "stdout",
     "output_type": "stream",
     "text": [
      "5.923644343597231\n"
     ]
    },
    {
     "name": "stderr",
     "output_type": "stream",
     "text": [
      " 54%|█████▍    | 26/48 [00:07<00:06,  3.54it/s]"
     ]
    },
    {
     "name": "stdout",
     "output_type": "stream",
     "text": [
      "9.359717009623\n"
     ]
    },
    {
     "name": "stderr",
     "output_type": "stream",
     "text": [
      " 56%|█████▋    | 27/48 [00:07<00:05,  3.57it/s]"
     ]
    },
    {
     "name": "stdout",
     "output_type": "stream",
     "text": [
      "6.269975450432604\n"
     ]
    },
    {
     "name": "stderr",
     "output_type": "stream",
     "text": [
      " 58%|█████▊    | 28/48 [00:07<00:05,  3.59it/s]"
     ]
    },
    {
     "name": "stdout",
     "output_type": "stream",
     "text": [
      "5.672876660039966\n"
     ]
    },
    {
     "name": "stderr",
     "output_type": "stream",
     "text": [
      " 60%|██████    | 29/48 [00:07<00:05,  3.57it/s]"
     ]
    },
    {
     "name": "stdout",
     "output_type": "stream",
     "text": [
      "5.828086856501665\n"
     ]
    },
    {
     "name": "stderr",
     "output_type": "stream",
     "text": [
      " 62%|██████▎   | 30/48 [00:08<00:05,  3.57it/s]"
     ]
    },
    {
     "name": "stdout",
     "output_type": "stream",
     "text": [
      "5.829092129637158\n"
     ]
    },
    {
     "name": "stderr",
     "output_type": "stream",
     "text": [
      " 65%|██████▍   | 31/48 [00:08<00:04,  3.58it/s]"
     ]
    },
    {
     "name": "stdout",
     "output_type": "stream",
     "text": [
      "6.025820050863868\n"
     ]
    },
    {
     "name": "stderr",
     "output_type": "stream",
     "text": [
      " 67%|██████▋   | 32/48 [00:08<00:04,  3.55it/s]"
     ]
    },
    {
     "name": "stdout",
     "output_type": "stream",
     "text": [
      "5.581841985011598\n"
     ]
    },
    {
     "name": "stderr",
     "output_type": "stream",
     "text": [
      " 69%|██████▉   | 33/48 [00:09<00:04,  3.55it/s]"
     ]
    },
    {
     "name": "stdout",
     "output_type": "stream",
     "text": [
      "5.129937306706472\n"
     ]
    },
    {
     "name": "stderr",
     "output_type": "stream",
     "text": [
      " 71%|███████   | 34/48 [00:09<00:03,  3.54it/s]"
     ]
    },
    {
     "name": "stdout",
     "output_type": "stream",
     "text": [
      "5.004912432849947\n"
     ]
    },
    {
     "name": "stderr",
     "output_type": "stream",
     "text": [
      " 73%|███████▎  | 35/48 [00:09<00:03,  3.54it/s]"
     ]
    },
    {
     "name": "stdout",
     "output_type": "stream",
     "text": [
      "5.56809162807789\n"
     ]
    },
    {
     "name": "stderr",
     "output_type": "stream",
     "text": [
      " 75%|███████▌  | 36/48 [00:09<00:03,  3.53it/s]"
     ]
    },
    {
     "name": "stdout",
     "output_type": "stream",
     "text": [
      "6.35659884898354\n"
     ]
    },
    {
     "name": "stderr",
     "output_type": "stream",
     "text": [
      " 77%|███████▋  | 37/48 [00:10<00:03,  3.52it/s]"
     ]
    },
    {
     "name": "stdout",
     "output_type": "stream",
     "text": [
      "5.683609448930777\n"
     ]
    },
    {
     "name": "stderr",
     "output_type": "stream",
     "text": [
      " 79%|███████▉  | 38/48 [00:10<00:02,  3.51it/s]"
     ]
    },
    {
     "name": "stdout",
     "output_type": "stream",
     "text": [
      "8.172022366636876\n"
     ]
    },
    {
     "name": "stderr",
     "output_type": "stream",
     "text": [
      " 81%|████████▏ | 39/48 [00:10<00:02,  3.49it/s]"
     ]
    },
    {
     "name": "stdout",
     "output_type": "stream",
     "text": [
      "5.1809255557209255\n"
     ]
    },
    {
     "name": "stderr",
     "output_type": "stream",
     "text": [
      " 83%|████████▎ | 40/48 [00:11<00:02,  3.49it/s]"
     ]
    },
    {
     "name": "stdout",
     "output_type": "stream",
     "text": [
      "5.567672432617637\n"
     ]
    },
    {
     "name": "stderr",
     "output_type": "stream",
     "text": [
      " 85%|████████▌ | 41/48 [00:11<00:02,  3.48it/s]"
     ]
    },
    {
     "name": "stdout",
     "output_type": "stream",
     "text": [
      "4.855197323266491\n"
     ]
    },
    {
     "name": "stderr",
     "output_type": "stream",
     "text": [
      " 88%|████████▊ | 42/48 [00:11<00:01,  3.47it/s]"
     ]
    },
    {
     "name": "stdout",
     "output_type": "stream",
     "text": [
      "8.135826620625844\n"
     ]
    },
    {
     "name": "stderr",
     "output_type": "stream",
     "text": [
      " 90%|████████▉ | 43/48 [00:11<00:01,  3.44it/s]"
     ]
    },
    {
     "name": "stdout",
     "output_type": "stream",
     "text": [
      "5.703407243200001\n"
     ]
    },
    {
     "name": "stderr",
     "output_type": "stream",
     "text": [
      " 92%|█████████▏| 44/48 [00:12<00:01,  3.42it/s]"
     ]
    },
    {
     "name": "stdout",
     "output_type": "stream",
     "text": [
      "5.268876048371801\n"
     ]
    },
    {
     "name": "stderr",
     "output_type": "stream",
     "text": [
      " 94%|█████████▍| 45/48 [00:12<00:00,  3.42it/s]"
     ]
    },
    {
     "name": "stdout",
     "output_type": "stream",
     "text": [
      "5.203573569168554\n"
     ]
    },
    {
     "name": "stderr",
     "output_type": "stream",
     "text": [
      " 96%|█████████▌| 46/48 [00:12<00:00,  3.41it/s]"
     ]
    },
    {
     "name": "stdout",
     "output_type": "stream",
     "text": [
      "5.117107175166288\n"
     ]
    },
    {
     "name": "stderr",
     "output_type": "stream",
     "text": [
      " 98%|█████████▊| 47/48 [00:13<00:00,  3.39it/s]"
     ]
    },
    {
     "name": "stdout",
     "output_type": "stream",
     "text": [
      "5.592916167068363\n"
     ]
    },
    {
     "name": "stderr",
     "output_type": "stream",
     "text": [
      "100%|██████████| 48/48 [00:13<00:00,  3.58it/s]"
     ]
    },
    {
     "name": "stdout",
     "output_type": "stream",
     "text": [
      "4.798367229914929\n",
      "Test MAE: 5.8855244395116415\n"
     ]
    },
    {
     "name": "stderr",
     "output_type": "stream",
     "text": [
      "\n"
     ]
    }
   ],
   "source": [
    "num_test_samples = len(test_df)\n",
    "\n",
    "curr_test_wap_and_target_arr = test_df[wap_cols][:55]\n",
    "curr_test_exo_arr = test_df[exo_cols][:55]\n",
    "\n",
    "total_MAE = 0.0\n",
    "\n",
    "for i in tqdm(range(num_test_samples // 55)):\n",
    "    # train inputs\n",
    "    curr_concat_train_arr = np.concatenate([concat_train_arr, curr_test_wap_and_target_arr])\n",
    "    curr_exo_train_arr = np.concatenate([exo_train_arr, curr_test_exo_arr])\n",
    "\n",
    "    # scale inputs\n",
    "    curr_scaler = MinMaxScaler()\n",
    "    curr_scaler.fit(curr_concat_train_arr)\n",
    "    curr_concat_train_arr = curr_scaler.transform(curr_concat_train_arr)\n",
    "\n",
    "    # Fit the VAR model\n",
    "    model = VAR(endog=curr_concat_train_arr[-55*100-55*101:])\n",
    "    model_fit = model.fit()\n",
    "\n",
    "    # Make prediction on validation\n",
    "    curr_pred = model_fit.forecast(model.endog, steps=55)\n",
    "\n",
    "    # evaluate\n",
    "    curr_true_target = test_df[target_cols][i*55:(i+1)*55].values\n",
    "    curr_MAE = mean_absolute_error(curr_pred, curr_true_target)\n",
    "    total_MAE += curr_MAE\n",
    "\n",
    "    # concat new inputs\n",
    "    if i != num_test_samples // 55 - 1:\n",
    "        curr_test_wap_and_target_arr = np.concatenate([\n",
    "            curr_test_wap_and_target_arr,\n",
    "            curr_pred,\n",
    "            test_df[wap_cols][(i+1)*55:(i+2)*55]\n",
    "        ])\n",
    "        curr_test_exo_arr = np.concatenate([curr_test_exo_arr, test_df[exo_cols][(i+1)*55:(i+2)*55], test_df[exo_cols][(i+1)*55:(i+2)*55]])\n",
    "\n",
    "    print(curr_MAE)\n",
    "\n",
    "print(f'Test MAE:', total_MAE / (num_test_samples // 55))"
   ]
  },
  {
   "cell_type": "markdown",
   "metadata": {},
   "source": [
    "# LSTM\n",
    "In this part we train a simple bi-directional LSTM"
   ]
  },
  {
   "cell_type": "code",
   "execution_count": null,
   "metadata": {},
   "outputs": [],
   "source": [
    "class LSTM(nn.Module):\n",
    "    def __init__(self, hidden=256, out_dim=185):\n",
    "        super().__init__()\n",
    "        self.hidden = hidden\n",
    "        self.out_dim = out_dim\n",
    "        self.lstm = nn.LSTM(2036, hidden_size=self.hidden, num_layers=2, bidirectional=True, batch_first=True)\n",
    "        self.linear = nn.Linear(self.hidden * 2, self.out_dim)\n",
    "    \n",
    "    def forward(self, x):\n",
    "        x, _ = self.lstm(x)\n",
    "        x = self.linear(x)\n",
    "        return x"
   ]
  },
  {
   "cell_type": "code",
   "execution_count": null,
   "metadata": {},
   "outputs": [
    {
     "name": "stdout",
     "output_type": "stream",
     "text": [
      "--- Epoch [1/30] ---\n",
      "Loss: 5.549416542053223\n",
      "Loss: 5.237961292266846\n",
      "Loss: 8.095149040222168\n",
      "Loss: 6.798412799835205\n",
      "Loss: 5.570059776306152\n",
      "Epoch Loss: 6.318953037261963\n",
      "--- Epoch [2/30] ---\n",
      "Loss: 5.544959545135498\n",
      "Loss: 5.238502025604248\n",
      "Loss: 8.09648609161377\n",
      "Loss: 6.800079345703125\n",
      "Loss: 5.575272560119629\n",
      "Epoch Loss: 6.317306041717529\n",
      "--- Epoch [3/30] ---\n",
      "Loss: 5.541306495666504\n",
      "Loss: 5.239346504211426\n",
      "Loss: 8.089181900024414\n",
      "Loss: 6.8014750480651855\n",
      "Loss: 5.572729587554932\n",
      "Epoch Loss: 6.3166728019714355\n",
      "--- Epoch [4/30] ---\n",
      "Loss: 5.542489528656006\n",
      "Loss: 5.236428737640381\n",
      "Loss: 8.09494400024414\n",
      "Loss: 6.800201416015625\n",
      "Loss: 5.568076133728027\n",
      "Epoch Loss: 6.315825462341309\n",
      "--- Epoch [5/30] ---\n",
      "Loss: 5.5440497398376465\n",
      "Loss: 5.2335333824157715\n",
      "Loss: 8.132625579833984\n",
      "Loss: 6.76423978805542\n",
      "Loss: 5.565145492553711\n",
      "Epoch Loss: 6.310324668884277\n",
      "--- Epoch [6/30] ---\n",
      "Loss: 5.535722732543945\n",
      "Loss: 5.228562355041504\n",
      "Loss: 8.079418182373047\n",
      "Loss: 6.7209882736206055\n",
      "Loss: 5.56702184677124\n",
      "Epoch Loss: 6.304947376251221\n",
      "--- Epoch [7/30] ---\n",
      "Loss: 5.528314113616943\n",
      "Loss: 5.229946136474609\n",
      "Loss: 8.096280097961426\n",
      "Loss: 6.7128143310546875\n",
      "Loss: 5.5651726722717285\n",
      "Epoch Loss: 6.301760673522949\n",
      "--- Epoch [8/30] ---\n",
      "Loss: 5.529838562011719\n",
      "Loss: 5.241286754608154\n",
      "Loss: 8.054548263549805\n",
      "Loss: 6.672268390655518\n",
      "Loss: 5.565454006195068\n",
      "Epoch Loss: 6.299500942230225\n",
      "--- Epoch [9/30] ---\n",
      "Loss: 5.52316427230835\n",
      "Loss: 5.237268924713135\n",
      "Loss: 8.089741706848145\n",
      "Loss: 6.658705711364746\n",
      "Loss: 5.565418720245361\n",
      "Epoch Loss: 6.298746585845947\n",
      "--- Epoch [10/30] ---\n",
      "Loss: 5.529571056365967\n",
      "Loss: 5.232199192047119\n",
      "Loss: 8.0513916015625\n",
      "Loss: 6.632452487945557\n",
      "Loss: 5.559412479400635\n",
      "Epoch Loss: 6.296211242675781\n",
      "--- Epoch [11/30] ---\n",
      "Loss: 5.511310577392578\n",
      "Loss: 5.242032527923584\n",
      "Loss: 8.04043197631836\n",
      "Loss: 6.663459777832031\n",
      "Loss: 5.5667643547058105\n",
      "Epoch Loss: 6.293785095214844\n",
      "--- Epoch [12/30] ---\n",
      "Loss: 5.521441459655762\n",
      "Loss: 5.287484169006348\n",
      "Loss: 8.04135513305664\n",
      "Loss: 6.659883975982666\n",
      "Loss: 5.556736946105957\n",
      "Epoch Loss: 6.291879653930664\n",
      "--- Epoch [13/30] ---\n",
      "Loss: 5.50796365737915\n",
      "Loss: 5.243504524230957\n",
      "Loss: 8.038671493530273\n",
      "Loss: 6.638589382171631\n",
      "Loss: 5.562222957611084\n",
      "Epoch Loss: 6.289165019989014\n",
      "--- Epoch [14/30] ---\n",
      "Loss: 5.5538411140441895\n",
      "Loss: 5.243089199066162\n",
      "Loss: 8.028448104858398\n",
      "Loss: 6.658026695251465\n",
      "Loss: 5.565448760986328\n",
      "Epoch Loss: 6.286016464233398\n",
      "--- Epoch [15/30] ---\n",
      "Loss: 5.511619567871094\n",
      "Loss: 5.228499412536621\n",
      "Loss: 7.990584373474121\n",
      "Loss: 6.599000453948975\n",
      "Loss: 5.576286792755127\n",
      "Epoch Loss: 6.279938697814941\n",
      "--- Epoch [16/30] ---\n",
      "Loss: 5.530567169189453\n",
      "Loss: 5.233819961547852\n",
      "Loss: 7.9944987297058105\n",
      "Loss: 6.604247570037842\n",
      "Loss: 5.562197685241699\n",
      "Epoch Loss: 6.275058746337891\n",
      "--- Epoch [17/30] ---\n",
      "Loss: 5.500892639160156\n",
      "Loss: 5.234936237335205\n",
      "Loss: 7.9996232986450195\n",
      "Loss: 6.579163074493408\n",
      "Loss: 5.542116165161133\n",
      "Epoch Loss: 6.266064643859863\n",
      "--- Epoch [18/30] ---\n",
      "Loss: 5.526622295379639\n",
      "Loss: 5.243818283081055\n",
      "Loss: 7.943332195281982\n",
      "Loss: 6.6216230392456055\n",
      "Loss: 5.548544883728027\n",
      "Epoch Loss: 6.257412910461426\n",
      "--- Epoch [19/30] ---\n",
      "Loss: 5.504243850708008\n",
      "Loss: 5.271069526672363\n",
      "Loss: 7.938753128051758\n",
      "Loss: 6.614832878112793\n",
      "Loss: 5.569853782653809\n",
      "Epoch Loss: 6.2494988441467285\n",
      "--- Epoch [20/30] ---\n",
      "Loss: 5.553357124328613\n",
      "Loss: 5.24406099319458\n",
      "Loss: 7.807704448699951\n",
      "Loss: 6.531715393066406\n",
      "Loss: 5.4827880859375\n",
      "Epoch Loss: 6.2338948249816895\n",
      "--- Epoch [21/30] ---\n",
      "Loss: 5.455824375152588\n",
      "Loss: 5.217156887054443\n",
      "Loss: 7.795568466186523\n",
      "Loss: 6.5262885093688965\n",
      "Loss: 5.502830982208252\n",
      "Epoch Loss: 6.219977855682373\n",
      "--- Epoch [22/30] ---\n",
      "Loss: 5.480982780456543\n",
      "Loss: 5.209105491638184\n",
      "Loss: 7.857017993927002\n",
      "Loss: 6.557475566864014\n",
      "Loss: 5.5092573165893555\n",
      "Epoch Loss: 6.21061897277832\n",
      "--- Epoch [23/30] ---\n",
      "Loss: 5.4970927238464355\n",
      "Loss: 5.223031044006348\n",
      "Loss: 7.78448486328125\n",
      "Loss: 6.54329252243042\n",
      "Loss: 5.504112243652344\n",
      "Epoch Loss: 6.202844142913818\n",
      "--- Epoch [24/30] ---\n",
      "Loss: 5.433053493499756\n",
      "Loss: 5.205468654632568\n",
      "Loss: 7.74033784866333\n",
      "Loss: 6.538360118865967\n",
      "Loss: 5.479985237121582\n",
      "Epoch Loss: 6.1930718421936035\n",
      "--- Epoch [25/30] ---\n",
      "Loss: 5.4617719650268555\n",
      "Loss: 5.233875751495361\n",
      "Loss: 7.689489364624023\n",
      "Loss: 6.476528167724609\n",
      "Loss: 5.478490352630615\n",
      "Epoch Loss: 6.18065071105957\n",
      "--- Epoch [26/30] ---\n",
      "Loss: 5.4551239013671875\n",
      "Loss: 5.212116241455078\n",
      "Loss: 7.7126898765563965\n",
      "Loss: 6.509839057922363\n",
      "Loss: 5.481499671936035\n",
      "Epoch Loss: 6.173079967498779\n",
      "--- Epoch [27/30] ---\n",
      "Loss: 5.412021160125732\n",
      "Loss: 5.22987174987793\n",
      "Loss: 7.75486946105957\n",
      "Loss: 6.4792094230651855\n",
      "Loss: 5.472879886627197\n",
      "Epoch Loss: 6.1674933433532715\n",
      "--- Epoch [28/30] ---\n",
      "Loss: 5.4132466316223145\n",
      "Loss: 5.202872276306152\n",
      "Loss: 7.688413143157959\n",
      "Loss: 6.521069049835205\n",
      "Loss: 5.511155605316162\n",
      "Epoch Loss: 6.158954620361328\n",
      "--- Epoch [29/30] ---\n",
      "Loss: 5.3960466384887695\n",
      "Loss: 5.203224182128906\n",
      "Loss: 7.680165767669678\n",
      "Loss: 6.44338321685791\n",
      "Loss: 5.502406597137451\n",
      "Epoch Loss: 6.15487813949585\n",
      "--- Epoch [30/30] ---\n",
      "Loss: 5.391518592834473\n",
      "Loss: 5.198400020599365\n",
      "Loss: 7.629464149475098\n",
      "Loss: 6.430287837982178\n",
      "Loss: 5.520678997039795\n",
      "Epoch Loss: 6.147325038909912\n"
     ]
    }
   ],
   "source": [
    "lstm_model = LSTM().to(device)\n",
    "lstm_optimizer = torch.optim.Adam(lstm_model.parameters())\n",
    "loss_fn = nn.L1Loss()\n",
    "\n",
    "for epoch in range(30):\n",
    "    print(f\"--- Epoch [{epoch + 1}/{30}] ---\")\n",
    "    total_epoch_loss = 0.\n",
    "    for step, batch in enumerate(train_dataloader):\n",
    "        features, targets = batch\n",
    "        features = torch.from_numpy(scaler.transform(features))\n",
    "        features, targets = features.float(), targets.float()\n",
    "        features, targets = features.to(device), targets.to(device)\n",
    "        targets = targets.unsqueeze(0)\n",
    "        features = features.unsqueeze(0)\n",
    "\n",
    "        preds = lstm_model(features)\n",
    "        loss = loss_fn(targets, preds)\n",
    "        total_epoch_loss += loss.detach().cpu()\n",
    "\n",
    "        if step % 100 == 0:\n",
    "            print(\"Loss:\", loss.item())\n",
    "\n",
    "        lstm_optimizer.zero_grad()\n",
    "        loss.backward()\n",
    "        lstm_optimizer.step()\n",
    "    print(f\"Epoch Loss: {total_epoch_loss / len(train_dataloader)}\")"
   ]
  },
  {
   "cell_type": "code",
   "execution_count": null,
   "metadata": {},
   "outputs": [
    {
     "name": "stdout",
     "output_type": "stream",
     "text": [
      "MAE: 5.760513931011978\n"
     ]
    }
   ],
   "source": [
    "lstm_model.eval()\n",
    "total_loss = 0.\n",
    "total_elems = 0\n",
    "for step, batch in enumerate(test_dataloader):\n",
    "    features, targets = batch\n",
    "    features = torch.from_numpy(scaler.transform(features))\n",
    "    features, targets = features.float(), targets.float()\n",
    "    features, targets = features.to(device), targets.to(device)\n",
    "    targets = targets.unsqueeze(0)\n",
    "    features = features.unsqueeze(0)\n",
    "    with torch.inference_mode():\n",
    "        preds = lstm_model(features)\n",
    "        total_loss += torch.sum(torch.abs(preds - targets)).item()\n",
    "        total_elems += torch.numel(targets)\n",
    "print(f\"MAE: {total_loss / total_elems}\")"
   ]
  },
  {
   "cell_type": "markdown",
   "metadata": {},
   "source": [
    "# Conditional DDPM\n",
    "In this part we treat the inputs and outputs as 1-channel images and apply conditional DDPM"
   ]
  },
  {
   "cell_type": "code",
   "execution_count": null,
   "metadata": {},
   "outputs": [
    {
     "name": "stdout",
     "output_type": "stream",
     "text": [
      "Models moved to GPU.\n"
     ]
    }
   ],
   "source": [
    "from diffusion_model import Unet, p_losses, sample\n",
    "U = Unet(dim=64, channels=1, dim_mults=(1, 2, 4), self_condition=True)\n",
    "if torch.cuda.is_available():\n",
    "    U.cuda()\n",
    "    print('Models moved to GPU.')\n",
    "u_optimizer = torch.optim.Adam(U.parameters(), 0.0002, [0.5, 0.999])"
   ]
  },
  {
   "cell_type": "code",
   "execution_count": null,
   "metadata": {},
   "outputs": [
    {
     "name": "stdout",
     "output_type": "stream",
     "text": [
      "--- Epoch [1/5] ---\n",
      "Loss: 0.8664166331291199\n",
      "Loss: 0.342109739780426\n",
      "Loss: 0.5751746892929077\n",
      "Loss: 0.36596542596817017\n",
      "Loss: 0.6054816246032715\n",
      "Epoch Loss: 0.5488351859479248\n",
      "Saving...\n",
      "--- Epoch [2/5] ---\n",
      "Loss: 0.48535293340682983\n",
      "Loss: 0.5322597026824951\n",
      "Loss: 0.36875081062316895\n",
      "Loss: 0.5387202501296997\n",
      "Loss: 0.27861088514328003\n",
      "Epoch Loss: 0.4736612992528955\n",
      "Saving...\n",
      "--- Epoch [3/5] ---\n",
      "Loss: 0.2649272382259369\n",
      "Loss: 0.243866428732872\n",
      "Loss: 0.5191173553466797\n",
      "Loss: 0.293118953704834\n",
      "Loss: 0.5198401212692261\n",
      "Epoch Loss: 0.4562738733946864\n",
      "Saving...\n",
      "--- Epoch [4/5] ---\n",
      "Loss: 0.7090773582458496\n",
      "Loss: 0.5887994766235352\n",
      "Loss: 0.47108373045921326\n",
      "Loss: 0.5159890055656433\n",
      "Loss: 0.32491758465766907\n",
      "Epoch Loss: 0.44573564989186876\n",
      "Saving...\n",
      "--- Epoch [5/5] ---\n",
      "Loss: 0.4543801248073578\n",
      "Loss: 0.4828573763370514\n",
      "Loss: 0.42861083149909973\n",
      "Loss: 0.48692965507507324\n",
      "Loss: 0.3912566900253296\n",
      "Epoch Loss: 0.44426095021101397\n",
      "Saving...\n"
     ]
    }
   ],
   "source": [
    "num_epc = 5\n",
    "for epoch in range(num_epc):\n",
    "    print(f\"--- Epoch [{epoch+1}/{num_epc}] ---\")\n",
    "\n",
    "    total_epoch_loss = 0.\n",
    "\n",
    "    for step, batch in enumerate(train_dataloader):\n",
    "        cond, targets = batch\n",
    "        cond = torch.from_numpy(scaler.transform(cond))\n",
    "        cond, targets = cond.float(), targets.float()\n",
    "        cond, targets = cond.to(device), targets.to(device)\n",
    "        targets = targets.unsqueeze(0).unsqueeze(0)\n",
    "        cond = cond.unsqueeze(0)\n",
    "        targets = torch.nn.functional.pad(targets, (0, 71, 0, 9), \"constant\", 0)\n",
    "\n",
    "        # 1. Sample t uniformally for every example in the batch\n",
    "        t = torch.randint(low=0, high=500, size=(1,), device=device).long()\n",
    "\n",
    "        # 2. Get l1 loss\n",
    "        loss = p_losses(U, targets, t, loss_type='l1', time_cond=cond)\n",
    "\n",
    "        if step % 100 == 0:\n",
    "            print(\"Loss:\", loss.item())\n",
    "    \n",
    "        total_epoch_loss += loss.detach().item()\n",
    "\n",
    "        u_optimizer.zero_grad()\n",
    "        loss.backward()\n",
    "        u_optimizer.step()\n",
    "    \n",
    "    print(\"Epoch Loss:\", total_epoch_loss / len(train_dataloader))\n",
    "\n",
    "    # Save every epoch\n",
    "    print(\"Saving...\")\n",
    "    torch.save(U.state_dict(), \"diffusion.pth\")"
   ]
  },
  {
   "cell_type": "code",
   "execution_count": null,
   "metadata": {},
   "outputs": [
    {
     "name": "stderr",
     "output_type": "stream",
     "text": [
      "  0%|          | 0/48 [00:00<?, ?it/s]"
     ]
    },
    {
     "data": {
      "application/vnd.jupyter.widget-view+json": {
       "model_id": "ecadc1dc71f740f79c89ec23f56bff5c",
       "version_major": 2,
       "version_minor": 0
      },
      "text/plain": [
       "sampling loop time step:   0%|          | 0/500 [00:00<?, ?it/s]"
      ]
     },
     "metadata": {},
     "output_type": "display_data"
    },
    {
     "name": "stderr",
     "output_type": "stream",
     "text": [
      "  2%|▏         | 1/48 [01:11<56:12, 71.76s/it]"
     ]
    },
    {
     "name": "stdout",
     "output_type": "stream",
     "text": [
      "4.201510429382324\n"
     ]
    },
    {
     "data": {
      "application/vnd.jupyter.widget-view+json": {
       "model_id": "b32c4816b2864fda9370fa77d5046e5f",
       "version_major": 2,
       "version_minor": 0
      },
      "text/plain": [
       "sampling loop time step:   0%|          | 0/500 [00:00<?, ?it/s]"
      ]
     },
     "metadata": {},
     "output_type": "display_data"
    },
    {
     "name": "stderr",
     "output_type": "stream",
     "text": [
      "  4%|▍         | 2/48 [02:24<55:18, 72.13s/it]"
     ]
    },
    {
     "name": "stdout",
     "output_type": "stream",
     "text": [
      "4.367911338806152\n"
     ]
    },
    {
     "data": {
      "application/vnd.jupyter.widget-view+json": {
       "model_id": "56c3bb7a70404710ae5982fba1d0c9c2",
       "version_major": 2,
       "version_minor": 0
      },
      "text/plain": [
       "sampling loop time step:   0%|          | 0/500 [00:00<?, ?it/s]"
      ]
     },
     "metadata": {},
     "output_type": "display_data"
    },
    {
     "name": "stderr",
     "output_type": "stream",
     "text": [
      "  6%|▋         | 3/48 [03:36<54:11, 72.25s/it]"
     ]
    },
    {
     "name": "stdout",
     "output_type": "stream",
     "text": [
      "4.455802122751872\n"
     ]
    },
    {
     "data": {
      "application/vnd.jupyter.widget-view+json": {
       "model_id": "5dd73c59e5fd4210a88bbfdd65a4bb4c",
       "version_major": 2,
       "version_minor": 0
      },
      "text/plain": [
       "sampling loop time step:   0%|          | 0/500 [00:00<?, ?it/s]"
      ]
     },
     "metadata": {},
     "output_type": "display_data"
    },
    {
     "name": "stderr",
     "output_type": "stream",
     "text": [
      "  8%|▊         | 4/48 [04:48<52:54, 72.14s/it]"
     ]
    },
    {
     "name": "stdout",
     "output_type": "stream",
     "text": [
      "4.494023323059082\n"
     ]
    },
    {
     "data": {
      "application/vnd.jupyter.widget-view+json": {
       "model_id": "644f78e881f44dd9afb30eaf586dcfcc",
       "version_major": 2,
       "version_minor": 0
      },
      "text/plain": [
       "sampling loop time step:   0%|          | 0/500 [00:00<?, ?it/s]"
      ]
     },
     "metadata": {},
     "output_type": "display_data"
    },
    {
     "name": "stderr",
     "output_type": "stream",
     "text": [
      " 10%|█         | 5/48 [06:00<51:40, 72.10s/it]"
     ]
    },
    {
     "name": "stdout",
     "output_type": "stream",
     "text": [
      "4.475032806396484\n"
     ]
    },
    {
     "data": {
      "application/vnd.jupyter.widget-view+json": {
       "model_id": "51eebecd34ac4e1187d1144791c8778e",
       "version_major": 2,
       "version_minor": 0
      },
      "text/plain": [
       "sampling loop time step:   0%|          | 0/500 [00:00<?, ?it/s]"
      ]
     },
     "metadata": {},
     "output_type": "display_data"
    },
    {
     "name": "stderr",
     "output_type": "stream",
     "text": [
      " 12%|█▎        | 6/48 [07:12<50:25, 72.03s/it]"
     ]
    },
    {
     "name": "stdout",
     "output_type": "stream",
     "text": [
      "4.495413939158122\n"
     ]
    },
    {
     "data": {
      "application/vnd.jupyter.widget-view+json": {
       "model_id": "9e1b87deb5c34a819a6acd5e0e77dcb4",
       "version_major": 2,
       "version_minor": 0
      },
      "text/plain": [
       "sampling loop time step:   0%|          | 0/500 [00:00<?, ?it/s]"
      ]
     },
     "metadata": {},
     "output_type": "display_data"
    },
    {
     "name": "stderr",
     "output_type": "stream",
     "text": [
      " 15%|█▍        | 7/48 [08:24<49:11, 72.00s/it]"
     ]
    },
    {
     "name": "stdout",
     "output_type": "stream",
     "text": [
      "4.604225022452218\n"
     ]
    },
    {
     "data": {
      "application/vnd.jupyter.widget-view+json": {
       "model_id": "b1240c27acd84dac922cb7ecd7634ce2",
       "version_major": 2,
       "version_minor": 0
      },
      "text/plain": [
       "sampling loop time step:   0%|          | 0/500 [00:00<?, ?it/s]"
      ]
     },
     "metadata": {},
     "output_type": "display_data"
    },
    {
     "name": "stderr",
     "output_type": "stream",
     "text": [
      " 17%|█▋        | 8/48 [09:36<47:58, 71.97s/it]"
     ]
    },
    {
     "name": "stdout",
     "output_type": "stream",
     "text": [
      "4.6070767641067505\n"
     ]
    },
    {
     "data": {
      "application/vnd.jupyter.widget-view+json": {
       "model_id": "0907fa56274d45c4ae536803b06a0250",
       "version_major": 2,
       "version_minor": 0
      },
      "text/plain": [
       "sampling loop time step:   0%|          | 0/500 [00:00<?, ?it/s]"
      ]
     },
     "metadata": {},
     "output_type": "display_data"
    },
    {
     "name": "stderr",
     "output_type": "stream",
     "text": [
      " 19%|█▉        | 9/48 [10:48<46:45, 71.95s/it]"
     ]
    },
    {
     "name": "stdout",
     "output_type": "stream",
     "text": [
      "4.579028765360515\n"
     ]
    },
    {
     "data": {
      "application/vnd.jupyter.widget-view+json": {
       "model_id": "6f58fb4ad4d54d9a9eb02f04d59d529d",
       "version_major": 2,
       "version_minor": 0
      },
      "text/plain": [
       "sampling loop time step:   0%|          | 0/500 [00:00<?, ?it/s]"
      ]
     },
     "metadata": {},
     "output_type": "display_data"
    },
    {
     "name": "stderr",
     "output_type": "stream",
     "text": [
      " 21%|██        | 10/48 [12:00<45:33, 71.95s/it]"
     ]
    },
    {
     "name": "stdout",
     "output_type": "stream",
     "text": [
      "4.528861236572266\n"
     ]
    },
    {
     "data": {
      "application/vnd.jupyter.widget-view+json": {
       "model_id": "37427515282d4cefbf020fc1e93f714e",
       "version_major": 2,
       "version_minor": 0
      },
      "text/plain": [
       "sampling loop time step:   0%|          | 0/500 [00:00<?, ?it/s]"
      ]
     },
     "metadata": {},
     "output_type": "display_data"
    },
    {
     "name": "stderr",
     "output_type": "stream",
     "text": [
      " 23%|██▎       | 11/48 [13:12<44:23, 71.99s/it]"
     ]
    },
    {
     "name": "stdout",
     "output_type": "stream",
     "text": [
      "4.523338491266424\n"
     ]
    },
    {
     "data": {
      "application/vnd.jupyter.widget-view+json": {
       "model_id": "e994d2525da04820876d8935189ec13d",
       "version_major": 2,
       "version_minor": 0
      },
      "text/plain": [
       "sampling loop time step:   0%|          | 0/500 [00:00<?, ?it/s]"
      ]
     },
     "metadata": {},
     "output_type": "display_data"
    },
    {
     "name": "stderr",
     "output_type": "stream",
     "text": [
      " 25%|██▌       | 12/48 [14:24<43:10, 71.97s/it]"
     ]
    },
    {
     "name": "stdout",
     "output_type": "stream",
     "text": [
      "4.542020678520203\n"
     ]
    },
    {
     "data": {
      "application/vnd.jupyter.widget-view+json": {
       "model_id": "0ac271531a444af38538ae891758e795",
       "version_major": 2,
       "version_minor": 0
      },
      "text/plain": [
       "sampling loop time step:   0%|          | 0/500 [00:00<?, ?it/s]"
      ]
     },
     "metadata": {},
     "output_type": "display_data"
    },
    {
     "name": "stderr",
     "output_type": "stream",
     "text": [
      " 27%|██▋       | 13/48 [15:36<41:58, 71.95s/it]"
     ]
    },
    {
     "name": "stdout",
     "output_type": "stream",
     "text": [
      "4.533690856053279\n"
     ]
    },
    {
     "data": {
      "application/vnd.jupyter.widget-view+json": {
       "model_id": "024c58ef52b546a398d5116565f292de",
       "version_major": 2,
       "version_minor": 0
      },
      "text/plain": [
       "sampling loop time step:   0%|          | 0/500 [00:00<?, ?it/s]"
      ]
     },
     "metadata": {},
     "output_type": "display_data"
    },
    {
     "name": "stderr",
     "output_type": "stream",
     "text": [
      " 29%|██▉       | 14/48 [16:47<40:45, 71.94s/it]"
     ]
    },
    {
     "name": "stdout",
     "output_type": "stream",
     "text": [
      "4.5020498888833185\n"
     ]
    },
    {
     "data": {
      "application/vnd.jupyter.widget-view+json": {
       "model_id": "a58e9950aae64a7da667b1efcf0ba362",
       "version_major": 2,
       "version_minor": 0
      },
      "text/plain": [
       "sampling loop time step:   0%|          | 0/500 [00:00<?, ?it/s]"
      ]
     },
     "metadata": {},
     "output_type": "display_data"
    },
    {
     "name": "stderr",
     "output_type": "stream",
     "text": [
      " 31%|███▏      | 15/48 [17:59<39:33, 71.93s/it]"
     ]
    },
    {
     "name": "stdout",
     "output_type": "stream",
     "text": [
      "4.477288659413656\n"
     ]
    },
    {
     "data": {
      "application/vnd.jupyter.widget-view+json": {
       "model_id": "aa4610c0b7914a97b315895873899512",
       "version_major": 2,
       "version_minor": 0
      },
      "text/plain": [
       "sampling loop time step:   0%|          | 0/500 [00:00<?, ?it/s]"
      ]
     },
     "metadata": {},
     "output_type": "display_data"
    },
    {
     "name": "stderr",
     "output_type": "stream",
     "text": [
      " 33%|███▎      | 16/48 [19:11<38:22, 71.94s/it]"
     ]
    },
    {
     "name": "stdout",
     "output_type": "stream",
     "text": [
      "4.447746425867081\n"
     ]
    },
    {
     "data": {
      "application/vnd.jupyter.widget-view+json": {
       "model_id": "91e56f7d1267408782b309263986d304",
       "version_major": 2,
       "version_minor": 0
      },
      "text/plain": [
       "sampling loop time step:   0%|          | 0/500 [00:00<?, ?it/s]"
      ]
     },
     "metadata": {},
     "output_type": "display_data"
    },
    {
     "name": "stderr",
     "output_type": "stream",
     "text": [
      " 35%|███▌      | 17/48 [20:23<37:10, 71.94s/it]"
     ]
    },
    {
     "name": "stdout",
     "output_type": "stream",
     "text": [
      "4.434576567481546\n"
     ]
    },
    {
     "data": {
      "application/vnd.jupyter.widget-view+json": {
       "model_id": "9d0c2e8f291b4074a2ea2eb6f2e66f81",
       "version_major": 2,
       "version_minor": 0
      },
      "text/plain": [
       "sampling loop time step:   0%|          | 0/500 [00:00<?, ?it/s]"
      ]
     },
     "metadata": {},
     "output_type": "display_data"
    },
    {
     "name": "stderr",
     "output_type": "stream",
     "text": [
      " 38%|███▊      | 18/48 [21:35<35:58, 71.94s/it]"
     ]
    },
    {
     "name": "stdout",
     "output_type": "stream",
     "text": [
      "4.418250693215264\n"
     ]
    },
    {
     "data": {
      "application/vnd.jupyter.widget-view+json": {
       "model_id": "c8b1e5793d684205a42cf12496da2f34",
       "version_major": 2,
       "version_minor": 0
      },
      "text/plain": [
       "sampling loop time step:   0%|          | 0/500 [00:00<?, ?it/s]"
      ]
     },
     "metadata": {},
     "output_type": "display_data"
    },
    {
     "name": "stderr",
     "output_type": "stream",
     "text": [
      " 40%|███▉      | 19/48 [22:47<34:47, 71.97s/it]"
     ]
    },
    {
     "name": "stdout",
     "output_type": "stream",
     "text": [
      "4.397729823463841\n"
     ]
    },
    {
     "data": {
      "application/vnd.jupyter.widget-view+json": {
       "model_id": "ff6e0fb63e844a288c67d193fd6c4328",
       "version_major": 2,
       "version_minor": 0
      },
      "text/plain": [
       "sampling loop time step:   0%|          | 0/500 [00:00<?, ?it/s]"
      ]
     },
     "metadata": {},
     "output_type": "display_data"
    },
    {
     "name": "stderr",
     "output_type": "stream",
     "text": [
      " 42%|████▏     | 20/48 [23:59<33:34, 71.95s/it]"
     ]
    },
    {
     "name": "stdout",
     "output_type": "stream",
     "text": [
      "4.382056307792664\n"
     ]
    },
    {
     "data": {
      "application/vnd.jupyter.widget-view+json": {
       "model_id": "91a41872935b40c39264dbb5b90f5662",
       "version_major": 2,
       "version_minor": 0
      },
      "text/plain": [
       "sampling loop time step:   0%|          | 0/500 [00:00<?, ?it/s]"
      ]
     },
     "metadata": {},
     "output_type": "display_data"
    },
    {
     "name": "stderr",
     "output_type": "stream",
     "text": [
      " 44%|████▍     | 21/48 [25:11<32:22, 71.95s/it]"
     ]
    },
    {
     "name": "stdout",
     "output_type": "stream",
     "text": [
      "4.371080920809791\n"
     ]
    },
    {
     "data": {
      "application/vnd.jupyter.widget-view+json": {
       "model_id": "6a7581578e27461da4d80fe4e5f287a7",
       "version_major": 2,
       "version_minor": 0
      },
      "text/plain": [
       "sampling loop time step:   0%|          | 0/500 [00:00<?, ?it/s]"
      ]
     },
     "metadata": {},
     "output_type": "display_data"
    },
    {
     "name": "stderr",
     "output_type": "stream",
     "text": [
      " 46%|████▌     | 22/48 [26:23<31:10, 71.94s/it]"
     ]
    },
    {
     "name": "stdout",
     "output_type": "stream",
     "text": [
      "4.367576534097845\n"
     ]
    },
    {
     "data": {
      "application/vnd.jupyter.widget-view+json": {
       "model_id": "2a08eeaf75d34ff2b5c3710bfe9c1f32",
       "version_major": 2,
       "version_minor": 0
      },
      "text/plain": [
       "sampling loop time step:   0%|          | 0/500 [00:00<?, ?it/s]"
      ]
     },
     "metadata": {},
     "output_type": "display_data"
    },
    {
     "name": "stderr",
     "output_type": "stream",
     "text": [
      " 48%|████▊     | 23/48 [27:35<29:58, 71.93s/it]"
     ]
    },
    {
     "name": "stdout",
     "output_type": "stream",
     "text": [
      "4.389462533204452\n"
     ]
    },
    {
     "data": {
      "application/vnd.jupyter.widget-view+json": {
       "model_id": "929bef3c0fa44f3cb96553fdb85c2cd8",
       "version_major": 2,
       "version_minor": 0
      },
      "text/plain": [
       "sampling loop time step:   0%|          | 0/500 [00:00<?, ?it/s]"
      ]
     },
     "metadata": {},
     "output_type": "display_data"
    },
    {
     "name": "stderr",
     "output_type": "stream",
     "text": [
      " 50%|█████     | 24/48 [28:47<28:46, 71.93s/it]"
     ]
    },
    {
     "name": "stdout",
     "output_type": "stream",
     "text": [
      "4.385650336742401\n"
     ]
    },
    {
     "data": {
      "application/vnd.jupyter.widget-view+json": {
       "model_id": "ac437dab686e4bbe8472ef025ea83abf",
       "version_major": 2,
       "version_minor": 0
      },
      "text/plain": [
       "sampling loop time step:   0%|          | 0/500 [00:00<?, ?it/s]"
      ]
     },
     "metadata": {},
     "output_type": "display_data"
    },
    {
     "name": "stderr",
     "output_type": "stream",
     "text": [
      " 52%|█████▏    | 25/48 [29:59<27:34, 71.95s/it]"
     ]
    },
    {
     "name": "stdout",
     "output_type": "stream",
     "text": [
      "4.382399520874023\n"
     ]
    },
    {
     "data": {
      "application/vnd.jupyter.widget-view+json": {
       "model_id": "a024bddce3b04febbc85bb8756564d24",
       "version_major": 2,
       "version_minor": 0
      },
      "text/plain": [
       "sampling loop time step:   0%|          | 0/500 [00:00<?, ?it/s]"
      ]
     },
     "metadata": {},
     "output_type": "display_data"
    },
    {
     "name": "stderr",
     "output_type": "stream",
     "text": [
      " 54%|█████▍    | 26/48 [31:11<26:22, 71.93s/it]"
     ]
    },
    {
     "name": "stdout",
     "output_type": "stream",
     "text": [
      "4.449407980992244\n"
     ]
    },
    {
     "data": {
      "application/vnd.jupyter.widget-view+json": {
       "model_id": "997dc72bc31e4b01a6b534bd46f8ca09",
       "version_major": 2,
       "version_minor": 0
      },
      "text/plain": [
       "sampling loop time step:   0%|          | 0/500 [00:00<?, ?it/s]"
      ]
     },
     "metadata": {},
     "output_type": "display_data"
    },
    {
     "name": "stderr",
     "output_type": "stream",
     "text": [
      " 56%|█████▋    | 27/48 [32:23<25:10, 71.93s/it]"
     ]
    },
    {
     "name": "stdout",
     "output_type": "stream",
     "text": [
      "4.458234769326669\n"
     ]
    },
    {
     "data": {
      "application/vnd.jupyter.widget-view+json": {
       "model_id": "9da46f6c182b43c995680d3b7438de87",
       "version_major": 2,
       "version_minor": 0
      },
      "text/plain": [
       "sampling loop time step:   0%|          | 0/500 [00:00<?, ?it/s]"
      ]
     },
     "metadata": {},
     "output_type": "display_data"
    },
    {
     "name": "stderr",
     "output_type": "stream",
     "text": [
      " 58%|█████▊    | 28/48 [33:35<23:58, 71.93s/it]"
     ]
    },
    {
     "name": "stdout",
     "output_type": "stream",
     "text": [
      "4.451662080628531\n"
     ]
    },
    {
     "data": {
      "application/vnd.jupyter.widget-view+json": {
       "model_id": "ec3f78ba197b4a168ff9bc1e34830a74",
       "version_major": 2,
       "version_minor": 0
      },
      "text/plain": [
       "sampling loop time step:   0%|          | 0/500 [00:00<?, ?it/s]"
      ]
     },
     "metadata": {},
     "output_type": "display_data"
    },
    {
     "name": "stderr",
     "output_type": "stream",
     "text": [
      " 60%|██████    | 29/48 [34:47<22:46, 71.93s/it]"
     ]
    },
    {
     "name": "stdout",
     "output_type": "stream",
     "text": [
      "4.447116868249301\n"
     ]
    },
    {
     "data": {
      "application/vnd.jupyter.widget-view+json": {
       "model_id": "5ed2abf816e44bf3b93a38c0a02b337a",
       "version_major": 2,
       "version_minor": 0
      },
      "text/plain": [
       "sampling loop time step:   0%|          | 0/500 [00:00<?, ?it/s]"
      ]
     },
     "metadata": {},
     "output_type": "display_data"
    },
    {
     "name": "stderr",
     "output_type": "stream",
     "text": [
      " 62%|██████▎   | 30/48 [35:58<21:34, 71.93s/it]"
     ]
    },
    {
     "name": "stdout",
     "output_type": "stream",
     "text": [
      "4.448305098215739\n"
     ]
    },
    {
     "data": {
      "application/vnd.jupyter.widget-view+json": {
       "model_id": "b3412cad0f154ff4874c631d7a056b3f",
       "version_major": 2,
       "version_minor": 0
      },
      "text/plain": [
       "sampling loop time step:   0%|          | 0/500 [00:00<?, ?it/s]"
      ]
     },
     "metadata": {},
     "output_type": "display_data"
    },
    {
     "name": "stderr",
     "output_type": "stream",
     "text": [
      " 65%|██████▍   | 31/48 [37:10<20:22, 71.93s/it]"
     ]
    },
    {
     "name": "stdout",
     "output_type": "stream",
     "text": [
      "4.445637072286298\n"
     ]
    },
    {
     "data": {
      "application/vnd.jupyter.widget-view+json": {
       "model_id": "8baf9883ded141a89e3f11305ef9262f",
       "version_major": 2,
       "version_minor": 0
      },
      "text/plain": [
       "sampling loop time step:   0%|          | 0/500 [00:00<?, ?it/s]"
      ]
     },
     "metadata": {},
     "output_type": "display_data"
    },
    {
     "name": "stderr",
     "output_type": "stream",
     "text": [
      " 67%|██████▋   | 32/48 [38:22<19:10, 71.93s/it]"
     ]
    },
    {
     "name": "stdout",
     "output_type": "stream",
     "text": [
      "4.434021577239037\n"
     ]
    },
    {
     "data": {
      "application/vnd.jupyter.widget-view+json": {
       "model_id": "d52dfd980fa640ab9b33c8bd6fca19a4",
       "version_major": 2,
       "version_minor": 0
      },
      "text/plain": [
       "sampling loop time step:   0%|          | 0/500 [00:00<?, ?it/s]"
      ]
     },
     "metadata": {},
     "output_type": "display_data"
    },
    {
     "name": "stderr",
     "output_type": "stream",
     "text": [
      " 69%|██████▉   | 33/48 [39:34<17:58, 71.93s/it]"
     ]
    },
    {
     "name": "stdout",
     "output_type": "stream",
     "text": [
      "4.41458933281176\n"
     ]
    },
    {
     "data": {
      "application/vnd.jupyter.widget-view+json": {
       "model_id": "c438ef8153c94d1b9fbb34aee7e59d50",
       "version_major": 2,
       "version_minor": 0
      },
      "text/plain": [
       "sampling loop time step:   0%|          | 0/500 [00:00<?, ?it/s]"
      ]
     },
     "metadata": {},
     "output_type": "display_data"
    },
    {
     "name": "stderr",
     "output_type": "stream",
     "text": [
      " 71%|███████   | 34/48 [40:46<16:47, 71.93s/it]"
     ]
    },
    {
     "name": "stdout",
     "output_type": "stream",
     "text": [
      "4.402802467346191\n"
     ]
    },
    {
     "data": {
      "application/vnd.jupyter.widget-view+json": {
       "model_id": "d6ee41b891334373aa9c910309236b19",
       "version_major": 2,
       "version_minor": 0
      },
      "text/plain": [
       "sampling loop time step:   0%|          | 0/500 [00:00<?, ?it/s]"
      ]
     },
     "metadata": {},
     "output_type": "display_data"
    },
    {
     "name": "stderr",
     "output_type": "stream",
     "text": [
      " 73%|███████▎  | 35/48 [41:58<15:35, 71.93s/it]"
     ]
    },
    {
     "name": "stdout",
     "output_type": "stream",
     "text": [
      "4.392192963191441\n"
     ]
    },
    {
     "data": {
      "application/vnd.jupyter.widget-view+json": {
       "model_id": "3eab335d4ad74ed19c1466c18389c6a8",
       "version_major": 2,
       "version_minor": 0
      },
      "text/plain": [
       "sampling loop time step:   0%|          | 0/500 [00:00<?, ?it/s]"
      ]
     },
     "metadata": {},
     "output_type": "display_data"
    },
    {
     "name": "stderr",
     "output_type": "stream",
     "text": [
      " 75%|███████▌  | 36/48 [43:10<14:23, 71.94s/it]"
     ]
    },
    {
     "name": "stdout",
     "output_type": "stream",
     "text": [
      "4.40048282676273\n"
     ]
    },
    {
     "data": {
      "application/vnd.jupyter.widget-view+json": {
       "model_id": "3a657bd70d5a411ba9911c44a557fe86",
       "version_major": 2,
       "version_minor": 0
      },
      "text/plain": [
       "sampling loop time step:   0%|          | 0/500 [00:00<?, ?it/s]"
      ]
     },
     "metadata": {},
     "output_type": "display_data"
    },
    {
     "name": "stderr",
     "output_type": "stream",
     "text": [
      " 77%|███████▋  | 37/48 [44:22<13:11, 71.95s/it]"
     ]
    },
    {
     "name": "stdout",
     "output_type": "stream",
     "text": [
      "4.390925587834539\n"
     ]
    },
    {
     "data": {
      "application/vnd.jupyter.widget-view+json": {
       "model_id": "ce9e212e14f6418ebd974f2cb80b867c",
       "version_major": 2,
       "version_minor": 0
      },
      "text/plain": [
       "sampling loop time step:   0%|          | 0/500 [00:00<?, ?it/s]"
      ]
     },
     "metadata": {},
     "output_type": "display_data"
    },
    {
     "name": "stderr",
     "output_type": "stream",
     "text": [
      " 79%|███████▉  | 38/48 [45:34<11:59, 71.95s/it]"
     ]
    },
    {
     "name": "stdout",
     "output_type": "stream",
     "text": [
      "4.423069376694529\n"
     ]
    },
    {
     "data": {
      "application/vnd.jupyter.widget-view+json": {
       "model_id": "cbe8edc82fef44aa83c12c8ccf545e9d",
       "version_major": 2,
       "version_minor": 0
      },
      "text/plain": [
       "sampling loop time step:   0%|          | 0/500 [00:00<?, ?it/s]"
      ]
     },
     "metadata": {},
     "output_type": "display_data"
    },
    {
     "name": "stderr",
     "output_type": "stream",
     "text": [
      " 81%|████████▏ | 39/48 [46:46<10:47, 71.96s/it]"
     ]
    },
    {
     "name": "stdout",
     "output_type": "stream",
     "text": [
      "4.408555727738601\n"
     ]
    },
    {
     "data": {
      "application/vnd.jupyter.widget-view+json": {
       "model_id": "5c9ebe6e2d2c44bea2ce867d8d7e10bf",
       "version_major": 2,
       "version_minor": 0
      },
      "text/plain": [
       "sampling loop time step:   0%|          | 0/500 [00:00<?, ?it/s]"
      ]
     },
     "metadata": {},
     "output_type": "display_data"
    },
    {
     "name": "stderr",
     "output_type": "stream",
     "text": [
      " 83%|████████▎ | 40/48 [47:58<09:35, 71.94s/it]"
     ]
    },
    {
     "name": "stdout",
     "output_type": "stream",
     "text": [
      "4.403669440746308\n"
     ]
    },
    {
     "data": {
      "application/vnd.jupyter.widget-view+json": {
       "model_id": "069552e8b2af42f9b7185517208808c3",
       "version_major": 2,
       "version_minor": 0
      },
      "text/plain": [
       "sampling loop time step:   0%|          | 0/500 [00:00<?, ?it/s]"
      ]
     },
     "metadata": {},
     "output_type": "display_data"
    },
    {
     "name": "stderr",
     "output_type": "stream",
     "text": [
      " 85%|████████▌ | 41/48 [49:10<08:23, 71.95s/it]"
     ]
    },
    {
     "name": "stdout",
     "output_type": "stream",
     "text": [
      "4.387494308192555\n"
     ]
    },
    {
     "data": {
      "application/vnd.jupyter.widget-view+json": {
       "model_id": "bece16a9f3a34ffdbecd7b789cde4d3f",
       "version_major": 2,
       "version_minor": 0
      },
      "text/plain": [
       "sampling loop time step:   0%|          | 0/500 [00:00<?, ?it/s]"
      ]
     },
     "metadata": {},
     "output_type": "display_data"
    },
    {
     "name": "stderr",
     "output_type": "stream",
     "text": [
      " 88%|████████▊ | 42/48 [50:22<07:11, 71.94s/it]"
     ]
    },
    {
     "name": "stdout",
     "output_type": "stream",
     "text": [
      "4.414678380602882\n"
     ]
    },
    {
     "data": {
      "application/vnd.jupyter.widget-view+json": {
       "model_id": "acb8bde2b451444e9fee9dfa8a57e7ee",
       "version_major": 2,
       "version_minor": 0
      },
      "text/plain": [
       "sampling loop time step:   0%|          | 0/500 [00:00<?, ?it/s]"
      ]
     },
     "metadata": {},
     "output_type": "display_data"
    },
    {
     "name": "stderr",
     "output_type": "stream",
     "text": [
      " 90%|████████▉ | 43/48 [51:34<05:59, 71.94s/it]"
     ]
    },
    {
     "name": "stdout",
     "output_type": "stream",
     "text": [
      "4.416277574938397\n"
     ]
    },
    {
     "data": {
      "application/vnd.jupyter.widget-view+json": {
       "model_id": "de6e514461a2487b86c0e6b90acfe4a3",
       "version_major": 2,
       "version_minor": 0
      },
      "text/plain": [
       "sampling loop time step:   0%|          | 0/500 [00:00<?, ?it/s]"
      ]
     },
     "metadata": {},
     "output_type": "display_data"
    },
    {
     "name": "stderr",
     "output_type": "stream",
     "text": [
      " 92%|█████████▏| 44/48 [52:46<04:47, 71.94s/it]"
     ]
    },
    {
     "name": "stdout",
     "output_type": "stream",
     "text": [
      "4.409924279559743\n"
     ]
    },
    {
     "data": {
      "application/vnd.jupyter.widget-view+json": {
       "model_id": "6928898347a04871aad803207efa82b1",
       "version_major": 2,
       "version_minor": 0
      },
      "text/plain": [
       "sampling loop time step:   0%|          | 0/500 [00:00<?, ?it/s]"
      ]
     },
     "metadata": {},
     "output_type": "display_data"
    },
    {
     "name": "stderr",
     "output_type": "stream",
     "text": [
      " 94%|█████████▍| 45/48 [53:58<03:35, 71.94s/it]"
     ]
    },
    {
     "name": "stdout",
     "output_type": "stream",
     "text": [
      "4.399718639585707\n"
     ]
    },
    {
     "data": {
      "application/vnd.jupyter.widget-view+json": {
       "model_id": "42ef3ef8c3584ad1b6f3ababd7807530",
       "version_major": 2,
       "version_minor": 0
      },
      "text/plain": [
       "sampling loop time step:   0%|          | 0/500 [00:00<?, ?it/s]"
      ]
     },
     "metadata": {},
     "output_type": "display_data"
    },
    {
     "name": "stderr",
     "output_type": "stream",
     "text": [
      " 96%|█████████▌| 46/48 [55:09<02:23, 71.93s/it]"
     ]
    },
    {
     "name": "stdout",
     "output_type": "stream",
     "text": [
      "4.390979839407879\n"
     ]
    },
    {
     "data": {
      "application/vnd.jupyter.widget-view+json": {
       "model_id": "4ba9fc57de514e65be02e6a86f2cf86f",
       "version_major": 2,
       "version_minor": 0
      },
      "text/plain": [
       "sampling loop time step:   0%|          | 0/500 [00:00<?, ?it/s]"
      ]
     },
     "metadata": {},
     "output_type": "display_data"
    },
    {
     "name": "stderr",
     "output_type": "stream",
     "text": [
      " 98%|█████████▊| 47/48 [56:21<01:11, 71.94s/it]"
     ]
    },
    {
     "name": "stdout",
     "output_type": "stream",
     "text": [
      "4.384790430677698\n"
     ]
    },
    {
     "data": {
      "application/vnd.jupyter.widget-view+json": {
       "model_id": "09ec153c25dd4a0589bf34d766839e7b",
       "version_major": 2,
       "version_minor": 0
      },
      "text/plain": [
       "sampling loop time step:   0%|          | 0/500 [00:00<?, ?it/s]"
      ]
     },
     "metadata": {},
     "output_type": "display_data"
    },
    {
     "name": "stderr",
     "output_type": "stream",
     "text": [
      "100%|██████████| 48/48 [57:33<00:00, 71.96s/it]"
     ]
    },
    {
     "name": "stdout",
     "output_type": "stream",
     "text": [
      "4.376183301210403\n",
      "MAE: 4.376183301210403\n"
     ]
    },
    {
     "name": "stderr",
     "output_type": "stream",
     "text": [
      "\n"
     ]
    }
   ],
   "source": [
    "# sampling loop\n",
    "U = Unet(dim=64, channels=1, dim_mults=(1, 2, 4), self_condition=True)\n",
    "if torch.cuda.is_available():\n",
    "    U.cuda()\n",
    "U.load_state_dict(torch.load('diffusion.pth'))\n",
    "\n",
    "U.eval()\n",
    "total_loss = 0.\n",
    "total_elems = 0\n",
    "for step, batch in tqdm(enumerate(test_dataloader), total=len(test_dataloader)):\n",
    "    cond, targets = batch\n",
    "    cond = torch.from_numpy(scaler.transform(cond))\n",
    "    cond, targets = cond.float(), targets.float()\n",
    "    cond, targets = cond.to(device), targets.to(device)\n",
    "    targets = targets.unsqueeze(0).unsqueeze(0)\n",
    "    cond = cond.unsqueeze(0)\n",
    "    targets = torch.nn.functional.pad(targets, (0, 71, 0, 9), \"constant\", 0)\n",
    "    # torch inference_mode already annotated for sample() function\n",
    "    samples = sample(U, (64, 256), batch_size=1, channels=1, time_cond=cond)\n",
    "    total_loss += torch.sum(torch.abs(torch.from_numpy(samples[-1]) - targets.detach().cpu())).item()\n",
    "    total_elems += torch.numel(targets)\n",
    "    print(total_loss / total_elems)\n",
    "print(f\"MAE: {total_loss / total_elems}\")"
   ]
  },
  {
   "cell_type": "markdown",
   "metadata": {},
   "source": [
    "# TimeGrad (Modified)\n",
    "\n",
    "In this part we do our own version of TimeGrad, where we run the input time series through an LSTM and also condition on its hidden states to do our diffusion."
   ]
  },
  {
   "cell_type": "code",
   "execution_count": 8,
   "metadata": {},
   "outputs": [
    {
     "name": "stderr",
     "output_type": "stream",
     "text": [
      "/usr/local/lib/python3.10/dist-packages/tqdm/auto.py:21: TqdmWarning: IProgress not found. Please update jupyter and ipywidgets. See https://ipywidgets.readthedocs.io/en/stable/user_install.html\n",
      "  from .autonotebook import tqdm as notebook_tqdm\n"
     ]
    },
    {
     "name": "stdout",
     "output_type": "stream",
     "text": [
      "Models moved to GPU.\n"
     ]
    }
   ],
   "source": [
    "from cond_diffusion_model import Unet, p_losses, sample\n",
    "U = Unet(dim=128, channels=1, dim_mults=(1, 2, 4, 8), self_condition=True)\n",
    "if torch.cuda.is_available():\n",
    "    U.cuda()\n",
    "    print('Models moved to GPU.')\n",
    "u_optimizer = torch.optim.Adam(U.parameters(), 0.0001, [0.5, 0.999])"
   ]
  },
  {
   "cell_type": "code",
   "execution_count": 9,
   "metadata": {},
   "outputs": [
    {
     "name": "stdout",
     "output_type": "stream",
     "text": [
      "--- Epoch [1/5] ---\n",
      "Loss: 1.355212688446045\n",
      "Loss: 0.22331053018569946\n",
      "Loss: 0.6818065643310547\n",
      "Loss: 0.29054683446884155\n",
      "Loss: 0.7394852638244629\n",
      "Epoch Loss: 0.6322581101785356\n",
      "Saving...\n",
      "--- Epoch [2/5] ---\n",
      "Loss: 0.5181396007537842\n",
      "Loss: 0.6309390068054199\n",
      "Loss: 0.3013524115085602\n",
      "Loss: 0.6252678632736206\n",
      "Loss: 0.18191730976104736\n",
      "Epoch Loss: 0.5002434923040399\n",
      "Saving...\n",
      "--- Epoch [3/5] ---\n",
      "Loss: 0.16345974802970886\n",
      "Loss: 0.12740090489387512\n",
      "Loss: 0.6126435995101929\n",
      "Loss: 0.19558659195899963\n",
      "Loss: 0.6061059832572937\n",
      "Epoch Loss: 0.47431328053011906\n",
      "Saving...\n",
      "--- Epoch [4/5] ---\n",
      "Loss: 0.6106074452400208\n",
      "Loss: 0.6796053051948547\n",
      "Loss: 0.5300034880638123\n",
      "Loss: 0.6206527352333069\n",
      "Loss: 0.24946549534797668\n",
      "Epoch Loss: 0.4638041064108767\n",
      "Saving...\n",
      "--- Epoch [5/5] ---\n",
      "Loss: 0.4749850928783417\n",
      "Loss: 0.518022358417511\n",
      "Loss: 0.43184641003608704\n",
      "Loss: 0.5591621398925781\n",
      "Loss: 0.3569842576980591\n",
      "Epoch Loss: 0.4666267468252028\n",
      "Saving...\n"
     ]
    }
   ],
   "source": [
    "num_epc = 5\n",
    "for epoch in range(num_epc):\n",
    "    print(f\"--- Epoch [{epoch+1}/{num_epc}] ---\")\n",
    "\n",
    "    total_epoch_loss = 0.\n",
    "\n",
    "    for step, batch in enumerate(train_dataloader):\n",
    "        cond, targets = batch\n",
    "        cond = torch.from_numpy(scaler.transform(cond))\n",
    "        cond, targets = cond.float(), targets.float()\n",
    "        cond, targets = cond.to(device), targets.to(device)\n",
    "        targets = targets.unsqueeze(0).unsqueeze(0)\n",
    "        cond = cond.unsqueeze(0)\n",
    "        targets = torch.nn.functional.pad(targets, (0, 71, 0, 9), \"constant\", 0)\n",
    "\n",
    "        # 1. Sample t uniformally for every example in the batch\n",
    "        t = torch.randint(low=0, high=500, size=(1,), device=device).long()\n",
    "\n",
    "        # 2. Get l1 loss\n",
    "        loss = p_losses(U, targets, t, loss_type='l2', time_cond=cond)\n",
    "\n",
    "        if step % 100 == 0:\n",
    "            print(\"Loss:\", loss.item())\n",
    "    \n",
    "        total_epoch_loss += loss.detach().item()\n",
    "\n",
    "        u_optimizer.zero_grad()\n",
    "        loss.backward()\n",
    "        u_optimizer.step()\n",
    "    \n",
    "    print(\"Epoch Loss:\", total_epoch_loss / len(train_dataloader))\n",
    "\n",
    "    # Save every epoch\n",
    "    print(\"Saving...\")\n",
    "    torch.save(U.state_dict(), \"cond_diffusion.pth\")"
   ]
  },
  {
   "cell_type": "code",
   "execution_count": 10,
   "metadata": {},
   "outputs": [
    {
     "name": "stderr",
     "output_type": "stream",
     "text": [
      "sampling loop time step: 100%|██████████| 500/500 [01:10<00:00,  7.06it/s]\n",
      "  2%|▏         | 1/48 [01:10<55:29, 70.83s/it]"
     ]
    },
    {
     "name": "stdout",
     "output_type": "stream",
     "text": [
      "4.186141490936279\n"
     ]
    },
    {
     "name": "stderr",
     "output_type": "stream",
     "text": [
      "sampling loop time step: 100%|██████████| 500/500 [01:10<00:00,  7.05it/s]\n",
      "  4%|▍         | 2/48 [02:21<54:21, 70.89s/it]"
     ]
    },
    {
     "name": "stdout",
     "output_type": "stream",
     "text": [
      "4.346467733383179\n"
     ]
    },
    {
     "name": "stderr",
     "output_type": "stream",
     "text": [
      "sampling loop time step: 100%|██████████| 500/500 [01:10<00:00,  7.06it/s]\n",
      "  6%|▋         | 3/48 [03:32<53:10, 70.89s/it]"
     ]
    },
    {
     "name": "stdout",
     "output_type": "stream",
     "text": [
      "4.370760281880696\n"
     ]
    },
    {
     "name": "stderr",
     "output_type": "stream",
     "text": [
      "sampling loop time step: 100%|██████████| 500/500 [01:10<00:00,  7.06it/s]\n",
      "  8%|▊         | 4/48 [04:43<51:59, 70.89s/it]"
     ]
    },
    {
     "name": "stdout",
     "output_type": "stream",
     "text": [
      "4.406520843505859\n"
     ]
    },
    {
     "name": "stderr",
     "output_type": "stream",
     "text": [
      "sampling loop time step: 100%|██████████| 500/500 [01:10<00:00,  7.06it/s]\n",
      " 10%|█         | 5/48 [05:54<50:47, 70.88s/it]"
     ]
    },
    {
     "name": "stdout",
     "output_type": "stream",
     "text": [
      "4.422838401794434\n"
     ]
    },
    {
     "name": "stderr",
     "output_type": "stream",
     "text": [
      "sampling loop time step: 100%|██████████| 500/500 [01:10<00:00,  7.06it/s]\n",
      " 12%|█▎        | 6/48 [07:05<49:36, 70.88s/it]"
     ]
    },
    {
     "name": "stdout",
     "output_type": "stream",
     "text": [
      "4.460620085398356\n"
     ]
    },
    {
     "name": "stderr",
     "output_type": "stream",
     "text": [
      "sampling loop time step: 100%|██████████| 500/500 [01:10<00:00,  7.06it/s]\n",
      " 15%|█▍        | 7/48 [08:16<48:26, 70.89s/it]"
     ]
    },
    {
     "name": "stdout",
     "output_type": "stream",
     "text": [
      "4.549922057560512\n"
     ]
    },
    {
     "name": "stderr",
     "output_type": "stream",
     "text": [
      "sampling loop time step: 100%|██████████| 500/500 [01:10<00:00,  7.06it/s]\n",
      " 17%|█▋        | 8/48 [09:27<47:15, 70.88s/it]"
     ]
    },
    {
     "name": "stdout",
     "output_type": "stream",
     "text": [
      "4.544751882553101\n"
     ]
    },
    {
     "name": "stderr",
     "output_type": "stream",
     "text": [
      "sampling loop time step: 100%|██████████| 500/500 [01:10<00:00,  7.06it/s]\n",
      " 19%|█▉        | 9/48 [10:37<46:04, 70.89s/it]"
     ]
    },
    {
     "name": "stdout",
     "output_type": "stream",
     "text": [
      "4.525657229953342\n"
     ]
    },
    {
     "name": "stderr",
     "output_type": "stream",
     "text": [
      "sampling loop time step: 100%|██████████| 500/500 [01:10<00:00,  7.06it/s]\n",
      " 21%|██        | 10/48 [11:48<44:53, 70.89s/it]"
     ]
    },
    {
     "name": "stdout",
     "output_type": "stream",
     "text": [
      "4.500329160690308\n"
     ]
    },
    {
     "name": "stderr",
     "output_type": "stream",
     "text": [
      "sampling loop time step: 100%|██████████| 500/500 [01:10<00:00,  7.06it/s]\n",
      " 23%|██▎       | 11/48 [12:59<43:42, 70.89s/it]"
     ]
    },
    {
     "name": "stdout",
     "output_type": "stream",
     "text": [
      "4.485438043420965\n"
     ]
    },
    {
     "name": "stderr",
     "output_type": "stream",
     "text": [
      "sampling loop time step: 100%|██████████| 500/500 [01:10<00:00,  7.06it/s]\n",
      " 25%|██▌       | 12/48 [14:10<42:31, 70.87s/it]"
     ]
    },
    {
     "name": "stdout",
     "output_type": "stream",
     "text": [
      "4.4953222672144575\n"
     ]
    },
    {
     "name": "stderr",
     "output_type": "stream",
     "text": [
      "sampling loop time step: 100%|██████████| 500/500 [01:10<00:00,  7.07it/s]\n",
      " 27%|██▋       | 13/48 [15:21<41:20, 70.86s/it]"
     ]
    },
    {
     "name": "stdout",
     "output_type": "stream",
     "text": [
      "4.4776895963228664\n"
     ]
    },
    {
     "name": "stderr",
     "output_type": "stream",
     "text": [
      "sampling loop time step: 100%|██████████| 500/500 [01:10<00:00,  7.07it/s]\n",
      " 29%|██▉       | 14/48 [16:32<40:08, 70.85s/it]"
     ]
    },
    {
     "name": "stdout",
     "output_type": "stream",
     "text": [
      "4.44011698450361\n"
     ]
    },
    {
     "name": "stderr",
     "output_type": "stream",
     "text": [
      "sampling loop time step: 100%|██████████| 500/500 [01:10<00:00,  7.07it/s]\n",
      " 31%|███▏      | 15/48 [17:43<38:57, 70.84s/it]"
     ]
    },
    {
     "name": "stdout",
     "output_type": "stream",
     "text": [
      "4.411158275604248\n"
     ]
    },
    {
     "name": "stderr",
     "output_type": "stream",
     "text": [
      "sampling loop time step: 100%|██████████| 500/500 [01:10<00:00,  7.07it/s]\n",
      " 33%|███▎      | 16/48 [18:53<37:46, 70.82s/it]"
     ]
    },
    {
     "name": "stdout",
     "output_type": "stream",
     "text": [
      "4.3863687217235565\n"
     ]
    },
    {
     "name": "stderr",
     "output_type": "stream",
     "text": [
      "sampling loop time step: 100%|██████████| 500/500 [01:10<00:00,  7.07it/s]\n",
      " 35%|███▌      | 17/48 [20:04<36:35, 70.81s/it]"
     ]
    },
    {
     "name": "stdout",
     "output_type": "stream",
     "text": [
      "4.371188163757324\n"
     ]
    },
    {
     "name": "stderr",
     "output_type": "stream",
     "text": [
      "sampling loop time step: 100%|██████████| 500/500 [01:10<00:00,  7.07it/s]\n",
      " 38%|███▊      | 18/48 [21:15<35:24, 70.81s/it]"
     ]
    },
    {
     "name": "stdout",
     "output_type": "stream",
     "text": [
      "4.364652951558431\n"
     ]
    },
    {
     "name": "stderr",
     "output_type": "stream",
     "text": [
      "sampling loop time step: 100%|██████████| 500/500 [01:10<00:00,  7.07it/s]\n",
      " 40%|███▉      | 19/48 [22:26<34:13, 70.81s/it]"
     ]
    },
    {
     "name": "stdout",
     "output_type": "stream",
     "text": [
      "4.351173024428518\n"
     ]
    },
    {
     "name": "stderr",
     "output_type": "stream",
     "text": [
      "sampling loop time step: 100%|██████████| 500/500 [01:10<00:00,  7.07it/s]\n",
      " 42%|████▏     | 20/48 [23:37<33:02, 70.81s/it]"
     ]
    },
    {
     "name": "stdout",
     "output_type": "stream",
     "text": [
      "4.334633994102478\n"
     ]
    },
    {
     "name": "stderr",
     "output_type": "stream",
     "text": [
      "sampling loop time step: 100%|██████████| 500/500 [01:10<00:00,  7.07it/s]\n",
      " 44%|████▍     | 21/48 [24:47<31:51, 70.80s/it]"
     ]
    },
    {
     "name": "stdout",
     "output_type": "stream",
     "text": [
      "4.327763784499395\n"
     ]
    },
    {
     "name": "stderr",
     "output_type": "stream",
     "text": [
      "sampling loop time step: 100%|██████████| 500/500 [01:10<00:00,  7.07it/s]\n",
      " 46%|████▌     | 22/48 [25:58<30:40, 70.80s/it]"
     ]
    },
    {
     "name": "stdout",
     "output_type": "stream",
     "text": [
      "4.330059788443825\n"
     ]
    },
    {
     "name": "stderr",
     "output_type": "stream",
     "text": [
      "sampling loop time step: 100%|██████████| 500/500 [01:10<00:00,  7.07it/s]\n",
      " 48%|████▊     | 23/48 [27:09<29:29, 70.80s/it]"
     ]
    },
    {
     "name": "stdout",
     "output_type": "stream",
     "text": [
      "4.346375714177671\n"
     ]
    },
    {
     "name": "stderr",
     "output_type": "stream",
     "text": [
      "sampling loop time step: 100%|██████████| 500/500 [01:10<00:00,  7.07it/s]\n",
      " 50%|█████     | 24/48 [28:20<28:19, 70.80s/it]"
     ]
    },
    {
     "name": "stdout",
     "output_type": "stream",
     "text": [
      "4.342731396357219\n"
     ]
    },
    {
     "name": "stderr",
     "output_type": "stream",
     "text": [
      "sampling loop time step: 100%|██████████| 500/500 [01:10<00:00,  7.07it/s]\n",
      " 52%|█████▏    | 25/48 [29:31<27:08, 70.81s/it]"
     ]
    },
    {
     "name": "stdout",
     "output_type": "stream",
     "text": [
      "4.342168960571289\n"
     ]
    },
    {
     "name": "stderr",
     "output_type": "stream",
     "text": [
      "sampling loop time step: 100%|██████████| 500/500 [01:10<00:00,  7.07it/s]\n",
      " 54%|█████▍    | 26/48 [30:41<25:57, 70.81s/it]"
     ]
    },
    {
     "name": "stdout",
     "output_type": "stream",
     "text": [
      "4.417334941717295\n"
     ]
    },
    {
     "name": "stderr",
     "output_type": "stream",
     "text": [
      "sampling loop time step: 100%|██████████| 500/500 [01:10<00:00,  7.06it/s]\n",
      " 56%|█████▋    | 27/48 [31:52<24:47, 70.82s/it]"
     ]
    },
    {
     "name": "stdout",
     "output_type": "stream",
     "text": [
      "4.427009070361102\n"
     ]
    },
    {
     "name": "stderr",
     "output_type": "stream",
     "text": [
      "sampling loop time step: 100%|██████████| 500/500 [01:10<00:00,  7.05it/s]\n",
      " 58%|█████▊    | 28/48 [33:03<23:37, 70.86s/it]"
     ]
    },
    {
     "name": "stdout",
     "output_type": "stream",
     "text": [
      "4.42074944291796\n"
     ]
    },
    {
     "name": "stderr",
     "output_type": "stream",
     "text": [
      "sampling loop time step: 100%|██████████| 500/500 [01:10<00:00,  7.07it/s]\n",
      " 60%|██████    | 29/48 [34:14<22:26, 70.85s/it]"
     ]
    },
    {
     "name": "stdout",
     "output_type": "stream",
     "text": [
      "4.419158853333572\n"
     ]
    },
    {
     "name": "stderr",
     "output_type": "stream",
     "text": [
      "sampling loop time step: 100%|██████████| 500/500 [01:10<00:00,  7.07it/s]\n",
      " 62%|██████▎   | 30/48 [35:25<21:14, 70.83s/it]"
     ]
    },
    {
     "name": "stdout",
     "output_type": "stream",
     "text": [
      "4.413558292388916\n"
     ]
    },
    {
     "name": "stderr",
     "output_type": "stream",
     "text": [
      "sampling loop time step: 100%|██████████| 500/500 [01:10<00:00,  7.07it/s]\n",
      " 65%|██████▍   | 31/48 [36:36<20:04, 70.82s/it]"
     ]
    },
    {
     "name": "stdout",
     "output_type": "stream",
     "text": [
      "4.413142727267358\n"
     ]
    },
    {
     "name": "stderr",
     "output_type": "stream",
     "text": [
      "sampling loop time step: 100%|██████████| 500/500 [01:10<00:00,  7.07it/s]\n",
      " 67%|██████▋   | 32/48 [37:46<18:53, 70.82s/it]"
     ]
    },
    {
     "name": "stdout",
     "output_type": "stream",
     "text": [
      "4.407457247376442\n"
     ]
    },
    {
     "name": "stderr",
     "output_type": "stream",
     "text": [
      "sampling loop time step: 100%|██████████| 500/500 [01:10<00:00,  7.07it/s]\n",
      " 69%|██████▉   | 33/48 [38:57<17:42, 70.82s/it]"
     ]
    },
    {
     "name": "stdout",
     "output_type": "stream",
     "text": [
      "4.393599192301433\n"
     ]
    },
    {
     "name": "stderr",
     "output_type": "stream",
     "text": [
      "sampling loop time step: 100%|██████████| 500/500 [01:10<00:00,  7.07it/s]\n",
      " 71%|███████   | 34/48 [40:08<16:31, 70.81s/it]"
     ]
    },
    {
     "name": "stdout",
     "output_type": "stream",
     "text": [
      "4.37657099611619\n"
     ]
    },
    {
     "name": "stderr",
     "output_type": "stream",
     "text": [
      "sampling loop time step: 100%|██████████| 500/500 [01:10<00:00,  7.07it/s]\n",
      " 73%|███████▎  | 35/48 [41:19<15:20, 70.80s/it]"
     ]
    },
    {
     "name": "stdout",
     "output_type": "stream",
     "text": [
      "4.372675051007952\n"
     ]
    },
    {
     "name": "stderr",
     "output_type": "stream",
     "text": [
      "sampling loop time step: 100%|██████████| 500/500 [01:10<00:00,  7.07it/s]\n",
      " 75%|███████▌  | 36/48 [42:30<14:09, 70.80s/it]"
     ]
    },
    {
     "name": "stdout",
     "output_type": "stream",
     "text": [
      "4.379210114479065\n"
     ]
    },
    {
     "name": "stderr",
     "output_type": "stream",
     "text": [
      "sampling loop time step: 100%|██████████| 500/500 [01:10<00:00,  7.07it/s]\n",
      " 77%|███████▋  | 37/48 [43:40<12:58, 70.80s/it]"
     ]
    },
    {
     "name": "stdout",
     "output_type": "stream",
     "text": [
      "4.375104581987536\n"
     ]
    },
    {
     "name": "stderr",
     "output_type": "stream",
     "text": [
      "sampling loop time step: 100%|██████████| 500/500 [01:10<00:00,  7.06it/s]\n",
      " 79%|███████▉  | 38/48 [44:51<11:48, 70.81s/it]"
     ]
    },
    {
     "name": "stdout",
     "output_type": "stream",
     "text": [
      "4.408577417072497\n"
     ]
    },
    {
     "name": "stderr",
     "output_type": "stream",
     "text": [
      "sampling loop time step: 100%|██████████| 500/500 [01:10<00:00,  7.07it/s]\n",
      " 81%|████████▏ | 39/48 [46:02<10:37, 70.82s/it]"
     ]
    },
    {
     "name": "stdout",
     "output_type": "stream",
     "text": [
      "4.3987489847036505\n"
     ]
    },
    {
     "name": "stderr",
     "output_type": "stream",
     "text": [
      "sampling loop time step: 100%|██████████| 500/500 [01:10<00:00,  7.07it/s]\n",
      " 83%|████████▎ | 40/48 [47:13<09:26, 70.81s/it]"
     ]
    },
    {
     "name": "stdout",
     "output_type": "stream",
     "text": [
      "4.3923949003219604\n"
     ]
    },
    {
     "name": "stderr",
     "output_type": "stream",
     "text": [
      "sampling loop time step: 100%|██████████| 500/500 [01:10<00:00,  7.07it/s]\n",
      " 85%|████████▌ | 41/48 [48:24<08:15, 70.81s/it]"
     ]
    },
    {
     "name": "stdout",
     "output_type": "stream",
     "text": [
      "4.375559981276349\n"
     ]
    },
    {
     "name": "stderr",
     "output_type": "stream",
     "text": [
      "sampling loop time step: 100%|██████████| 500/500 [01:10<00:00,  7.07it/s]\n",
      " 88%|████████▊ | 42/48 [49:34<07:04, 70.81s/it]"
     ]
    },
    {
     "name": "stdout",
     "output_type": "stream",
     "text": [
      "4.40349505061195\n"
     ]
    },
    {
     "name": "stderr",
     "output_type": "stream",
     "text": [
      "sampling loop time step: 100%|██████████| 500/500 [01:10<00:00,  7.07it/s]\n",
      " 90%|████████▉ | 43/48 [50:45<05:54, 70.81s/it]"
     ]
    },
    {
     "name": "stdout",
     "output_type": "stream",
     "text": [
      "4.399364282918531\n"
     ]
    },
    {
     "name": "stderr",
     "output_type": "stream",
     "text": [
      "sampling loop time step: 100%|██████████| 500/500 [01:10<00:00,  7.07it/s]\n",
      " 92%|█████████▏| 44/48 [51:56<04:43, 70.81s/it]"
     ]
    },
    {
     "name": "stdout",
     "output_type": "stream",
     "text": [
      "4.387587043372068\n"
     ]
    },
    {
     "name": "stderr",
     "output_type": "stream",
     "text": [
      "sampling loop time step: 100%|██████████| 500/500 [01:10<00:00,  7.07it/s]\n",
      " 94%|█████████▍| 45/48 [53:07<03:32, 70.81s/it]"
     ]
    },
    {
     "name": "stdout",
     "output_type": "stream",
     "text": [
      "4.379249408509996\n"
     ]
    },
    {
     "name": "stderr",
     "output_type": "stream",
     "text": [
      "sampling loop time step: 100%|██████████| 500/500 [01:10<00:00,  7.07it/s]\n",
      " 96%|█████████▌| 46/48 [54:18<02:21, 70.81s/it]"
     ]
    },
    {
     "name": "stdout",
     "output_type": "stream",
     "text": [
      "4.371380251386891\n"
     ]
    },
    {
     "name": "stderr",
     "output_type": "stream",
     "text": [
      "sampling loop time step: 100%|██████████| 500/500 [01:10<00:00,  7.07it/s]\n",
      " 98%|█████████▊| 47/48 [55:29<01:10, 70.82s/it]"
     ]
    },
    {
     "name": "stdout",
     "output_type": "stream",
     "text": [
      "4.368157148361206\n"
     ]
    },
    {
     "name": "stderr",
     "output_type": "stream",
     "text": [
      "sampling loop time step: 100%|██████████| 500/500 [01:10<00:00,  7.06it/s]\n",
      "100%|██████████| 48/48 [56:39<00:00, 70.83s/it]"
     ]
    },
    {
     "name": "stdout",
     "output_type": "stream",
     "text": [
      "4.357543935378392\n",
      "MAE: 4.357543935378392\n"
     ]
    },
    {
     "name": "stderr",
     "output_type": "stream",
     "text": [
      "\n"
     ]
    }
   ],
   "source": [
    "# sampling loop\n",
    "U = Unet(dim=64, channels=1, dim_mults=(1, 2, 4), self_condition=True)\n",
    "if torch.cuda.is_available():\n",
    "    U.cuda()\n",
    "U.load_state_dict(torch.load('cond_diffusion.pth'))\n",
    "\n",
    "U.eval()\n",
    "total_loss = 0.\n",
    "total_elems = 0\n",
    "for step, batch in tqdm(enumerate(test_dataloader), total=len(test_dataloader)):\n",
    "    cond, targets = batch\n",
    "    cond = torch.from_numpy(scaler.transform(cond))\n",
    "    cond, targets = cond.float(), targets.float()\n",
    "    cond, targets = cond.to(device), targets.to(device)\n",
    "    targets = targets.unsqueeze(0).unsqueeze(0)\n",
    "    cond = cond.unsqueeze(0)\n",
    "    targets = torch.nn.functional.pad(targets, (0, 71, 0, 9), \"constant\", 0)\n",
    "    # torch inference_mode already annotated for sample() function\n",
    "    samples = sample(U, (64, 256), batch_size=1, channels=1, time_cond=cond)\n",
    "    total_loss += torch.sum(torch.abs(torch.from_numpy(samples[-1]) - targets.detach().cpu())).item()\n",
    "    total_elems += torch.numel(targets)\n",
    "    print(total_loss / total_elems)\n",
    "print(f\"MAE: {total_loss / total_elems}\")"
   ]
  },
  {
   "cell_type": "markdown",
   "metadata": {},
   "source": [
    "# TimeGrad with FRFT\n",
    "\n",
    "Here we perform our modified TimeGrad with conditioning on the Fractional Fourier transform."
   ]
  },
  {
   "cell_type": "code",
   "execution_count": 8,
   "metadata": {},
   "outputs": [
    {
     "name": "stderr",
     "output_type": "stream",
     "text": [
      "/usr/local/lib/python3.10/dist-packages/tqdm/auto.py:21: TqdmWarning: IProgress not found. Please update jupyter and ipywidgets. See https://ipywidgets.readthedocs.io/en/stable/user_install.html\n",
      "  from .autonotebook import tqdm as notebook_tqdm\n"
     ]
    },
    {
     "name": "stdout",
     "output_type": "stream",
     "text": [
      "Models moved to GPU.\n"
     ]
    }
   ],
   "source": [
    "from fft_cond_diffusion_model import Unet, p_losses, sample\n",
    "U = Unet(dim=128, channels=1, dim_mults=(1, 2, 4, 8), self_condition=True)\n",
    "if torch.cuda.is_available():\n",
    "    U.cuda()\n",
    "    print('Models moved to GPU.')\n",
    "u_optimizer = torch.optim.Adam(U.parameters(), 0.0001, [0.5, 0.999])"
   ]
  },
  {
   "cell_type": "code",
   "execution_count": 9,
   "metadata": {},
   "outputs": [
    {
     "name": "stdout",
     "output_type": "stream",
     "text": [
      "--- Epoch [1/5] ---\n",
      "Loss: 1.3692975044250488\n",
      "Loss: 0.22155994176864624\n",
      "Loss: 0.606671929359436\n",
      "Loss: 0.29038989543914795\n",
      "Loss: 0.7157468795776367\n",
      "Epoch Loss: 0.5967875802351751\n",
      "Saving...\n",
      "--- Epoch [2/5] ---\n",
      "Loss: 0.48445069789886475\n",
      "Loss: 0.624477207660675\n",
      "Loss: 0.2906903326511383\n",
      "Loss: 0.6239463686943054\n",
      "Loss: 0.19061361253261566\n",
      "Epoch Loss: 0.48953074664221624\n",
      "Saving...\n",
      "--- Epoch [3/5] ---\n",
      "Loss: 0.16034150123596191\n",
      "Loss: 0.12739458680152893\n",
      "Loss: 0.6061078906059265\n",
      "Loss: 0.1953548789024353\n",
      "Loss: 0.5962360501289368\n",
      "Epoch Loss: 0.4697800937687277\n",
      "Saving...\n",
      "--- Epoch [4/5] ---\n",
      "Loss: 0.6069482564926147\n",
      "Loss: 0.6854190826416016\n",
      "Loss: 0.5220898389816284\n",
      "Loss: 0.6204911470413208\n",
      "Loss: 0.24741126596927643\n",
      "Epoch Loss: 0.45765033223199514\n",
      "Saving...\n",
      "--- Epoch [5/5] ---\n",
      "Loss: 0.47280484437942505\n",
      "Loss: 0.515881359577179\n",
      "Loss: 0.42626556754112244\n",
      "Loss: 0.5580533742904663\n",
      "Loss: 0.3658735454082489\n",
      "Epoch Loss: 0.46285366972448094\n",
      "Saving...\n"
     ]
    }
   ],
   "source": [
    "num_epc = 5\n",
    "for epoch in range(num_epc):\n",
    "    print(f\"--- Epoch [{epoch+1}/{num_epc}] ---\")\n",
    "\n",
    "    total_epoch_loss = 0.\n",
    "\n",
    "    for step, batch in enumerate(train_dataloader):\n",
    "        cond, targets = batch\n",
    "        cond = torch.from_numpy(scaler.transform(cond))\n",
    "        cond, targets = cond.float(), targets.float()\n",
    "        cond, targets = cond.to(device), targets.to(device)\n",
    "        targets = targets.unsqueeze(0).unsqueeze(0)\n",
    "        cond = cond.unsqueeze(0)\n",
    "        targets = torch.nn.functional.pad(targets, (0, 71, 0, 9), \"constant\", 0)\n",
    "\n",
    "        # 1. Sample t uniformally for every example in the batch\n",
    "        t = torch.randint(low=0, high=500, size=(1,), device=device).long()\n",
    "\n",
    "        # 2. Get l1 loss\n",
    "        loss = p_losses(U, targets, t, loss_type='l2', time_cond=cond)\n",
    "\n",
    "        if step % 100 == 0:\n",
    "            print(\"Loss:\", loss.item())\n",
    "    \n",
    "        total_epoch_loss += loss.detach().item()\n",
    "\n",
    "        u_optimizer.zero_grad()\n",
    "        loss.backward()\n",
    "        u_optimizer.step()\n",
    "    \n",
    "    print(\"Epoch Loss:\", total_epoch_loss / len(train_dataloader))\n",
    "\n",
    "    # Save every epoch\n",
    "    print(\"Saving...\")\n",
    "    torch.save(U.state_dict(), \"frft_cond_diffusion.pth\")"
   ]
  },
  {
   "cell_type": "code",
   "execution_count": 11,
   "metadata": {},
   "outputs": [
    {
     "name": "stderr",
     "output_type": "stream",
     "text": [
      "sampling loop time step: 100%|██████████| 500/500 [01:22<00:00,  6.09it/s]\n",
      "  2%|▏         | 1/48 [01:22<1:04:20, 82.13s/it]"
     ]
    },
    {
     "name": "stdout",
     "output_type": "stream",
     "text": [
      "4.11014461517334\n"
     ]
    },
    {
     "name": "stderr",
     "output_type": "stream",
     "text": [
      "sampling loop time step: 100%|██████████| 500/500 [01:21<00:00,  6.10it/s]\n",
      "  4%|▍         | 2/48 [02:44<1:02:55, 82.07s/it]"
     ]
    },
    {
     "name": "stdout",
     "output_type": "stream",
     "text": [
      "4.281827926635742\n"
     ]
    },
    {
     "name": "stderr",
     "output_type": "stream",
     "text": [
      "sampling loop time step: 100%|██████████| 500/500 [01:21<00:00,  6.10it/s]\n",
      "  6%|▋         | 3/48 [04:06<1:01:32, 82.06s/it]"
     ]
    },
    {
     "name": "stdout",
     "output_type": "stream",
     "text": [
      "4.312503973642985\n"
     ]
    },
    {
     "name": "stderr",
     "output_type": "stream",
     "text": [
      "sampling loop time step: 100%|██████████| 500/500 [01:22<00:00,  6.08it/s]\n",
      "  8%|▊         | 4/48 [05:28<1:00:14, 82.14s/it]"
     ]
    },
    {
     "name": "stdout",
     "output_type": "stream",
     "text": [
      "4.281505703926086\n"
     ]
    },
    {
     "name": "stderr",
     "output_type": "stream",
     "text": [
      "sampling loop time step: 100%|██████████| 500/500 [01:21<00:00,  6.11it/s]\n",
      " 10%|█         | 5/48 [06:50<58:48, 82.06s/it]  "
     ]
    },
    {
     "name": "stdout",
     "output_type": "stream",
     "text": [
      "4.310191059112549\n"
     ]
    },
    {
     "name": "stderr",
     "output_type": "stream",
     "text": [
      "sampling loop time step: 100%|██████████| 500/500 [01:21<00:00,  6.11it/s]\n",
      " 12%|█▎        | 6/48 [08:12<57:24, 82.01s/it]"
     ]
    },
    {
     "name": "stdout",
     "output_type": "stream",
     "text": [
      "4.339882691701253\n"
     ]
    },
    {
     "name": "stderr",
     "output_type": "stream",
     "text": [
      "sampling loop time step: 100%|██████████| 500/500 [01:21<00:00,  6.10it/s]\n",
      " 15%|█▍        | 7/48 [09:34<56:03, 82.03s/it]"
     ]
    },
    {
     "name": "stdout",
     "output_type": "stream",
     "text": [
      "4.443565164293561\n"
     ]
    },
    {
     "name": "stderr",
     "output_type": "stream",
     "text": [
      "sampling loop time step: 100%|██████████| 500/500 [01:22<00:00,  6.09it/s]\n",
      " 17%|█▋        | 8/48 [10:56<54:43, 82.09s/it]"
     ]
    },
    {
     "name": "stdout",
     "output_type": "stream",
     "text": [
      "4.46360445022583\n"
     ]
    },
    {
     "name": "stderr",
     "output_type": "stream",
     "text": [
      "sampling loop time step: 100%|██████████| 500/500 [01:21<00:00,  6.10it/s]\n",
      " 19%|█▉        | 9/48 [12:18<53:20, 82.06s/it]"
     ]
    },
    {
     "name": "stdout",
     "output_type": "stream",
     "text": [
      "4.434910085466173\n"
     ]
    },
    {
     "name": "stderr",
     "output_type": "stream",
     "text": [
      "sampling loop time step: 100%|██████████| 500/500 [01:21<00:00,  6.11it/s]\n",
      " 21%|██        | 10/48 [13:40<51:55, 82.00s/it]"
     ]
    },
    {
     "name": "stdout",
     "output_type": "stream",
     "text": [
      "4.392377042770386\n"
     ]
    },
    {
     "name": "stderr",
     "output_type": "stream",
     "text": [
      "sampling loop time step: 100%|██████████| 500/500 [01:21<00:00,  6.10it/s]\n",
      " 23%|██▎       | 11/48 [15:02<50:34, 82.01s/it]"
     ]
    },
    {
     "name": "stdout",
     "output_type": "stream",
     "text": [
      "4.368496374650435\n"
     ]
    },
    {
     "name": "stderr",
     "output_type": "stream",
     "text": [
      "sampling loop time step: 100%|██████████| 500/500 [01:21<00:00,  6.11it/s]\n",
      " 25%|██▌       | 12/48 [16:24<49:11, 81.98s/it]"
     ]
    },
    {
     "name": "stdout",
     "output_type": "stream",
     "text": [
      "4.370772322018941\n"
     ]
    },
    {
     "name": "stderr",
     "output_type": "stream",
     "text": [
      "sampling loop time step: 100%|██████████| 500/500 [01:21<00:00,  6.11it/s]\n",
      " 27%|██▋       | 13/48 [17:46<47:48, 81.96s/it]"
     ]
    },
    {
     "name": "stdout",
     "output_type": "stream",
     "text": [
      "4.365747121664194\n"
     ]
    },
    {
     "name": "stderr",
     "output_type": "stream",
     "text": [
      "sampling loop time step: 100%|██████████| 500/500 [01:22<00:00,  6.09it/s]\n",
      " 29%|██▉       | 14/48 [19:08<46:28, 82.00s/it]"
     ]
    },
    {
     "name": "stdout",
     "output_type": "stream",
     "text": [
      "4.328195895467486\n"
     ]
    },
    {
     "name": "stderr",
     "output_type": "stream",
     "text": [
      "sampling loop time step: 100%|██████████| 500/500 [01:21<00:00,  6.11it/s]\n",
      " 31%|███▏      | 15/48 [20:30<45:05, 81.98s/it]"
     ]
    },
    {
     "name": "stdout",
     "output_type": "stream",
     "text": [
      "4.303321154912313\n"
     ]
    },
    {
     "name": "stderr",
     "output_type": "stream",
     "text": [
      "sampling loop time step: 100%|██████████| 500/500 [01:21<00:00,  6.11it/s]\n",
      " 33%|███▎      | 16/48 [21:52<43:42, 81.96s/it]"
     ]
    },
    {
     "name": "stdout",
     "output_type": "stream",
     "text": [
      "4.285396412014961\n"
     ]
    },
    {
     "name": "stderr",
     "output_type": "stream",
     "text": [
      "sampling loop time step: 100%|██████████| 500/500 [01:22<00:00,  6.09it/s]\n",
      " 35%|███▌      | 17/48 [23:14<42:22, 82.00s/it]"
     ]
    },
    {
     "name": "stdout",
     "output_type": "stream",
     "text": [
      "4.2741837361279655\n"
     ]
    },
    {
     "name": "stderr",
     "output_type": "stream",
     "text": [
      "sampling loop time step: 100%|██████████| 500/500 [01:21<00:00,  6.11it/s]\n",
      " 38%|███▊      | 18/48 [24:36<40:59, 81.97s/it]"
     ]
    },
    {
     "name": "stdout",
     "output_type": "stream",
     "text": [
      "4.264785779847039\n"
     ]
    },
    {
     "name": "stderr",
     "output_type": "stream",
     "text": [
      "sampling loop time step: 100%|██████████| 500/500 [01:21<00:00,  6.11it/s]\n",
      " 40%|███▉      | 19/48 [25:58<39:36, 81.95s/it]"
     ]
    },
    {
     "name": "stdout",
     "output_type": "stream",
     "text": [
      "4.240985456265901\n"
     ]
    },
    {
     "name": "stderr",
     "output_type": "stream",
     "text": [
      "sampling loop time step: 100%|██████████| 500/500 [01:22<00:00,  6.09it/s]\n",
      " 42%|████▏     | 20/48 [27:20<38:16, 82.00s/it]"
     ]
    },
    {
     "name": "stdout",
     "output_type": "stream",
     "text": [
      "4.227737259864807\n"
     ]
    },
    {
     "name": "stderr",
     "output_type": "stream",
     "text": [
      "sampling loop time step: 100%|██████████| 500/500 [01:21<00:00,  6.11it/s]\n",
      " 44%|████▍     | 21/48 [28:42<36:53, 81.97s/it]"
     ]
    },
    {
     "name": "stdout",
     "output_type": "stream",
     "text": [
      "4.215077774865287\n"
     ]
    },
    {
     "name": "stderr",
     "output_type": "stream",
     "text": [
      "sampling loop time step: 100%|██████████| 500/500 [01:21<00:00,  6.11it/s]\n",
      " 46%|████▌     | 22/48 [30:04<35:30, 81.94s/it]"
     ]
    },
    {
     "name": "stdout",
     "output_type": "stream",
     "text": [
      "4.221634030342102\n"
     ]
    },
    {
     "name": "stderr",
     "output_type": "stream",
     "text": [
      "sampling loop time step: 100%|██████████| 500/500 [01:22<00:00,  6.10it/s]\n",
      " 48%|████▊     | 23/48 [31:26<34:09, 81.99s/it]"
     ]
    },
    {
     "name": "stdout",
     "output_type": "stream",
     "text": [
      "4.240104084429533\n"
     ]
    },
    {
     "name": "stderr",
     "output_type": "stream",
     "text": [
      "sampling loop time step: 100%|██████████| 500/500 [01:21<00:00,  6.11it/s]\n",
      " 50%|█████     | 24/48 [32:47<32:46, 81.94s/it]"
     ]
    },
    {
     "name": "stdout",
     "output_type": "stream",
     "text": [
      "4.239701141913732\n"
     ]
    },
    {
     "name": "stderr",
     "output_type": "stream",
     "text": [
      "sampling loop time step: 100%|██████████| 500/500 [01:21<00:00,  6.11it/s]\n",
      " 52%|█████▏    | 25/48 [34:09<31:24, 81.92s/it]"
     ]
    },
    {
     "name": "stdout",
     "output_type": "stream",
     "text": [
      "4.241749601364136\n"
     ]
    },
    {
     "name": "stderr",
     "output_type": "stream",
     "text": [
      "sampling loop time step: 100%|██████████| 500/500 [01:21<00:00,  6.11it/s]\n",
      " 54%|█████▍    | 26/48 [35:31<30:02, 81.93s/it]"
     ]
    },
    {
     "name": "stdout",
     "output_type": "stream",
     "text": [
      "4.318916091552148\n"
     ]
    },
    {
     "name": "stderr",
     "output_type": "stream",
     "text": [
      "sampling loop time step: 100%|██████████| 500/500 [01:21<00:00,  6.12it/s]\n",
      " 56%|█████▋    | 27/48 [36:53<28:39, 81.88s/it]"
     ]
    },
    {
     "name": "stdout",
     "output_type": "stream",
     "text": [
      "4.319468560042204\n"
     ]
    },
    {
     "name": "stderr",
     "output_type": "stream",
     "text": [
      "sampling loop time step: 100%|██████████| 500/500 [01:21<00:00,  6.12it/s]\n",
      " 58%|█████▊    | 28/48 [38:15<27:16, 81.84s/it]"
     ]
    },
    {
     "name": "stdout",
     "output_type": "stream",
     "text": [
      "4.310112450804029\n"
     ]
    },
    {
     "name": "stderr",
     "output_type": "stream",
     "text": [
      "sampling loop time step: 100%|██████████| 500/500 [01:21<00:00,  6.11it/s]\n",
      " 60%|██████    | 29/48 [39:37<25:55, 81.88s/it]"
     ]
    },
    {
     "name": "stdout",
     "output_type": "stream",
     "text": [
      "4.307964875780303\n"
     ]
    },
    {
     "name": "stderr",
     "output_type": "stream",
     "text": [
      "sampling loop time step: 100%|██████████| 500/500 [01:21<00:00,  6.12it/s]\n",
      " 62%|██████▎   | 30/48 [40:59<24:33, 81.84s/it]"
     ]
    },
    {
     "name": "stdout",
     "output_type": "stream",
     "text": [
      "4.298997807502746\n"
     ]
    },
    {
     "name": "stderr",
     "output_type": "stream",
     "text": [
      "sampling loop time step: 100%|██████████| 500/500 [01:21<00:00,  6.12it/s]\n",
      " 65%|██████▍   | 31/48 [42:20<23:10, 81.81s/it]"
     ]
    },
    {
     "name": "stdout",
     "output_type": "stream",
     "text": [
      "4.30323520014363\n"
     ]
    },
    {
     "name": "stderr",
     "output_type": "stream",
     "text": [
      "sampling loop time step: 100%|██████████| 500/500 [01:21<00:00,  6.11it/s]\n",
      " 67%|██████▋   | 32/48 [43:42<21:49, 81.85s/it]"
     ]
    },
    {
     "name": "stdout",
     "output_type": "stream",
     "text": [
      "4.295509420335293\n"
     ]
    },
    {
     "name": "stderr",
     "output_type": "stream",
     "text": [
      "sampling loop time step: 100%|██████████| 500/500 [01:21<00:00,  6.12it/s]\n",
      " 69%|██████▉   | 33/48 [45:04<20:27, 81.81s/it]"
     ]
    },
    {
     "name": "stdout",
     "output_type": "stream",
     "text": [
      "4.280568491328847\n"
     ]
    },
    {
     "name": "stderr",
     "output_type": "stream",
     "text": [
      "sampling loop time step: 100%|██████████| 500/500 [01:21<00:00,  6.12it/s]\n",
      " 71%|███████   | 34/48 [46:26<19:05, 81.79s/it]"
     ]
    },
    {
     "name": "stdout",
     "output_type": "stream",
     "text": [
      "4.265242681783788\n"
     ]
    },
    {
     "name": "stderr",
     "output_type": "stream",
     "text": [
      "sampling loop time step: 100%|██████████| 500/500 [01:21<00:00,  6.11it/s]\n",
      " 73%|███████▎  | 35/48 [47:48<17:43, 81.83s/it]"
     ]
    },
    {
     "name": "stdout",
     "output_type": "stream",
     "text": [
      "4.257589197158813\n"
     ]
    },
    {
     "name": "stderr",
     "output_type": "stream",
     "text": [
      "sampling loop time step: 100%|██████████| 500/500 [01:21<00:00,  6.12it/s]\n",
      " 75%|███████▌  | 36/48 [49:09<16:21, 81.80s/it]"
     ]
    },
    {
     "name": "stdout",
     "output_type": "stream",
     "text": [
      "4.258629262447357\n"
     ]
    },
    {
     "name": "stderr",
     "output_type": "stream",
     "text": [
      "sampling loop time step: 100%|██████████| 500/500 [01:21<00:00,  6.12it/s]\n",
      " 77%|███████▋  | 37/48 [50:31<14:59, 81.78s/it]"
     ]
    },
    {
     "name": "stdout",
     "output_type": "stream",
     "text": [
      "4.250288847330454\n"
     ]
    },
    {
     "name": "stderr",
     "output_type": "stream",
     "text": [
      "sampling loop time step: 100%|██████████| 500/500 [01:21<00:00,  6.11it/s]\n",
      " 79%|███████▉  | 38/48 [51:53<13:38, 81.83s/it]"
     ]
    },
    {
     "name": "stdout",
     "output_type": "stream",
     "text": [
      "4.290512059864245\n"
     ]
    },
    {
     "name": "stderr",
     "output_type": "stream",
     "text": [
      "sampling loop time step: 100%|██████████| 500/500 [01:21<00:00,  6.12it/s]\n",
      " 81%|████████▏ | 39/48 [53:15<12:16, 81.79s/it]"
     ]
    },
    {
     "name": "stdout",
     "output_type": "stream",
     "text": [
      "4.278892761621719\n"
     ]
    },
    {
     "name": "stderr",
     "output_type": "stream",
     "text": [
      "sampling loop time step: 100%|██████████| 500/500 [01:21<00:00,  6.12it/s]\n",
      " 83%|████████▎ | 40/48 [54:36<10:54, 81.77s/it]"
     ]
    },
    {
     "name": "stdout",
     "output_type": "stream",
     "text": [
      "4.274121737480163\n"
     ]
    },
    {
     "name": "stderr",
     "output_type": "stream",
     "text": [
      "sampling loop time step: 100%|██████████| 500/500 [01:21<00:00,  6.11it/s]\n",
      " 85%|████████▌ | 41/48 [55:58<09:32, 81.81s/it]"
     ]
    },
    {
     "name": "stdout",
     "output_type": "stream",
     "text": [
      "4.25708652705681\n"
     ]
    },
    {
     "name": "stderr",
     "output_type": "stream",
     "text": [
      "sampling loop time step: 100%|██████████| 500/500 [01:21<00:00,  6.12it/s]\n",
      " 88%|████████▊ | 42/48 [57:20<08:10, 81.78s/it]"
     ]
    },
    {
     "name": "stdout",
     "output_type": "stream",
     "text": [
      "4.2854203553426835\n"
     ]
    },
    {
     "name": "stderr",
     "output_type": "stream",
     "text": [
      "sampling loop time step: 100%|██████████| 500/500 [01:21<00:00,  6.12it/s]\n",
      " 90%|████████▉ | 43/48 [58:42<06:48, 81.76s/it]"
     ]
    },
    {
     "name": "stdout",
     "output_type": "stream",
     "text": [
      "4.2820365650709284\n"
     ]
    },
    {
     "name": "stderr",
     "output_type": "stream",
     "text": [
      "sampling loop time step: 100%|██████████| 500/500 [01:21<00:00,  6.10it/s]\n",
      " 92%|█████████▏| 44/48 [1:00:04<05:27, 81.82s/it]"
     ]
    },
    {
     "name": "stdout",
     "output_type": "stream",
     "text": [
      "4.272343418814919\n"
     ]
    },
    {
     "name": "stderr",
     "output_type": "stream",
     "text": [
      "sampling loop time step: 100%|██████████| 500/500 [01:21<00:00,  6.12it/s]\n",
      " 94%|█████████▍| 45/48 [1:01:25<04:05, 81.80s/it]"
     ]
    },
    {
     "name": "stdout",
     "output_type": "stream",
     "text": [
      "4.263354645835029\n"
     ]
    },
    {
     "name": "stderr",
     "output_type": "stream",
     "text": [
      "sampling loop time step: 100%|██████████| 500/500 [01:21<00:00,  6.12it/s]\n",
      " 96%|█████████▌| 46/48 [1:02:47<02:43, 81.78s/it]"
     ]
    },
    {
     "name": "stdout",
     "output_type": "stream",
     "text": [
      "4.254121687101281\n"
     ]
    },
    {
     "name": "stderr",
     "output_type": "stream",
     "text": [
      "sampling loop time step: 100%|██████████| 500/500 [01:21<00:00,  6.11it/s]\n",
      " 98%|█████████▊| 47/48 [1:04:09<01:21, 81.82s/it]"
     ]
    },
    {
     "name": "stdout",
     "output_type": "stream",
     "text": [
      "4.2482460356773215\n"
     ]
    },
    {
     "name": "stderr",
     "output_type": "stream",
     "text": [
      "sampling loop time step: 100%|██████████| 500/500 [01:21<00:00,  6.12it/s]\n",
      "100%|██████████| 48/48 [1:05:31<00:00, 81.90s/it]"
     ]
    },
    {
     "name": "stdout",
     "output_type": "stream",
     "text": [
      "4.234675755103429\n",
      "MAE: 4.234675755103429\n"
     ]
    },
    {
     "name": "stderr",
     "output_type": "stream",
     "text": [
      "\n"
     ]
    }
   ],
   "source": [
    "# sampling loop\n",
    "U = Unet(dim=128, channels=1, dim_mults=(1, 2, 4, 8), self_condition=True)\n",
    "if torch.cuda.is_available():\n",
    "    U.cuda()\n",
    "U.load_state_dict(torch.load('frft_cond_diffusion.pth'))\n",
    "\n",
    "U.eval()\n",
    "total_loss = 0.\n",
    "total_elems = 0\n",
    "for step, batch in tqdm(enumerate(test_dataloader), total=len(test_dataloader)):\n",
    "    cond, targets = batch\n",
    "    cond = torch.from_numpy(scaler.transform(cond))\n",
    "    cond, targets = cond.float(), targets.float()\n",
    "    cond, targets = cond.to(device), targets.to(device)\n",
    "    targets = targets.unsqueeze(0).unsqueeze(0)\n",
    "    cond = cond.unsqueeze(0)\n",
    "    targets = torch.nn.functional.pad(targets, (0, 71, 0, 9), \"constant\", 0)\n",
    "    # torch inference_mode already annotated for sample() function\n",
    "    samples = sample(U, (64, 256), batch_size=1, channels=1, time_cond=cond)\n",
    "    total_loss += torch.sum(torch.abs(torch.from_numpy(samples[-1]) - targets.detach().cpu())).item()\n",
    "    total_elems += torch.numel(targets)\n",
    "    print(total_loss / total_elems)\n",
    "print(f\"MAE: {total_loss / total_elems}\")"
   ]
  }
 ],
 "metadata": {
  "kernelspec": {
   "display_name": "NGC PyTorch",
   "language": "python",
   "name": "pytorch"
  },
  "language_info": {
   "codemirror_mode": {
    "name": "ipython",
    "version": 3
   },
   "file_extension": ".py",
   "mimetype": "text/x-python",
   "name": "python",
   "nbconvert_exporter": "python",
   "pygments_lexer": "ipython3",
   "version": "3.10.12"
  }
 },
 "nbformat": 4,
 "nbformat_minor": 2
}
